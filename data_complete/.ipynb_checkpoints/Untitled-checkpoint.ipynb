{
 "cells": [
  {
   "cell_type": "code",
   "execution_count": 176,
   "metadata": {},
   "outputs": [],
   "source": [
    "import os\n",
    "from gensim.models import word2vec\n",
    "import json\n",
    "from nltk.corpus import stopwords\n",
    "from string import ascii_lowercase\n",
    "import string\n",
    "import pandas as pd\n",
    "import os\n",
    "from sklearn.feature_extraction.text import TfidfVectorizer\n",
    "import numpy as np\n",
    "import ast\n",
    "import json\n",
    "import matplotlib.pyplot as plt\n",
    "import operator\n",
    "\n",
    "data_list = os.listdir(os.getcwd())\n"
   ]
  },
  {
   "cell_type": "code",
   "execution_count": 36,
   "metadata": {},
   "outputs": [
    {
     "name": "stdout",
     "output_type": "stream",
     "text": [
      "here\n",
      "here\n",
      "here\n",
      "here\n",
      "here\n"
     ]
    }
   ],
   "source": [
    "data_list\n",
    "df = pd.DataFrame()\n",
    "list_of_df = []\n",
    "for datum in data_list:\n",
    "    if datum[-3:] == 'csv':\n",
    "        print 'here'\n",
    "        convert = pd.read_csv(datum)\n",
    "        list_of_df.append(convert)\n",
    "        \n",
    "df = pd.concat(list_of_df)"
   ]
  },
  {
   "cell_type": "code",
   "execution_count": 37,
   "metadata": {},
   "outputs": [
    {
     "data": {
      "text/html": [
       "<div>\n",
       "<style>\n",
       "    .dataframe thead tr:only-child th {\n",
       "        text-align: right;\n",
       "    }\n",
       "\n",
       "    .dataframe thead th {\n",
       "        text-align: left;\n",
       "    }\n",
       "\n",
       "    .dataframe tbody tr th {\n",
       "        vertical-align: top;\n",
       "    }\n",
       "</style>\n",
       "<table border=\"1\" class=\"dataframe\">\n",
       "  <thead>\n",
       "    <tr style=\"text-align: right;\">\n",
       "      <th></th>\n",
       "      <th>Date Posted</th>\n",
       "      <th>Title</th>\n",
       "      <th>Journal</th>\n",
       "      <th>Authors</th>\n",
       "      <th>Link</th>\n",
       "      <th>Abstract</th>\n",
       "      <th>Text</th>\n",
       "      <th>Twitter</th>\n",
       "    </tr>\n",
       "  </thead>\n",
       "  <tbody>\n",
       "    <tr>\n",
       "      <th>0</th>\n",
       "      <td>November 14, 2013</td>\n",
       "      <td>The evolution of sex differences in disease ge...</td>\n",
       "      <td>Trends in Genetics</td>\n",
       "      <td>[(Gilks, William P,  University of Sussex), (A...</td>\n",
       "      <td>https://doi.org/10.1101/000414</td>\n",
       "      <td>There are significant differences in the biolo...</td>\n",
       "      <td>/Users/lynnyi/Documents/Projects/biorxiv-data-...</td>\n",
       "      <td>[( 15 Nov 2013 , 2)]</td>\n",
       "    </tr>\n",
       "    <tr>\n",
       "      <th>1</th>\n",
       "      <td>November 14, 2013</td>\n",
       "      <td>Sampling principles for biodiversity study</td>\n",
       "      <td>Pre print</td>\n",
       "      <td>[(Pan, Xubin,  Chinese Academy of Inspection a...</td>\n",
       "      <td>https://doi.org/10.1101/000364</td>\n",
       "      <td>Sampling is a fundamental tool in ecology and ...</td>\n",
       "      <td>/Users/lynnyi/Documents/Projects/biorxiv-data-...</td>\n",
       "      <td>[( 15 Nov 2013 , 3)]</td>\n",
       "    </tr>\n",
       "    <tr>\n",
       "      <th>2</th>\n",
       "      <td>November 13, 2013</td>\n",
       "      <td>On the Reproducibility of TCGA Ovarian Cancer ...</td>\n",
       "      <td>PLOS ONE</td>\n",
       "      <td>[(Wan, Ying-Wooi,  Baylor College of Medicine)...</td>\n",
       "      <td>https://doi.org/10.1101/000315</td>\n",
       "      <td>Dysregulated microRNA (miRNA) expression is a ...</td>\n",
       "      <td>/Users/lynnyi/Documents/Projects/biorxiv-data-...</td>\n",
       "      <td>[( 11 Dec 2013 , 1), ( 13 Nov 2013 , 2), ( 18 ...</td>\n",
       "    </tr>\n",
       "    <tr>\n",
       "      <th>3</th>\n",
       "      <td>November 12, 2013</td>\n",
       "      <td>Population genomics of parallel hybrid zones i...</td>\n",
       "      <td>Genome Research</td>\n",
       "      <td>[(Nadeau, Nicola,  University of Cambridge), (...</td>\n",
       "      <td>https://doi.org/10.1101/000208</td>\n",
       "      <td>Hybrid zones can be valuable tools for studyin...</td>\n",
       "      <td>/Users/lynnyi/Documents/Projects/biorxiv-data-...</td>\n",
       "      <td>[( 06 Dec 2016 , 1), ( 17 Nov 2013 , 2), ( 28 ...</td>\n",
       "    </tr>\n",
       "    <tr>\n",
       "      <th>4</th>\n",
       "      <td>November 12, 2013</td>\n",
       "      <td>A Complete Public Domain Family Genomics Dataset</td>\n",
       "      <td>Pre print</td>\n",
       "      <td>[(Corpas, Manuel,  Independent), (Cariaso, Mik...</td>\n",
       "      <td>https://doi.org/10.1101/000216</td>\n",
       "      <td>BACKGROUND: The availability of open access ge...</td>\n",
       "      <td>/Users/lynnyi/Documents/Projects/biorxiv-data-...</td>\n",
       "      <td>[( 29 Jun 2014 , 1), ( 15 Nov 2013 , 6), ( 04 ...</td>\n",
       "    </tr>\n",
       "  </tbody>\n",
       "</table>\n",
       "</div>"
      ],
      "text/plain": [
       "         Date Posted                                              Title  \\\n",
       "0  November 14, 2013  The evolution of sex differences in disease ge...   \n",
       "1  November 14, 2013         Sampling principles for biodiversity study   \n",
       "2  November 13, 2013  On the Reproducibility of TCGA Ovarian Cancer ...   \n",
       "3  November 12, 2013  Population genomics of parallel hybrid zones i...   \n",
       "4  November 12, 2013   A Complete Public Domain Family Genomics Dataset   \n",
       "\n",
       "              Journal                                            Authors  \\\n",
       "0  Trends in Genetics  [(Gilks, William P,  University of Sussex), (A...   \n",
       "1           Pre print  [(Pan, Xubin,  Chinese Academy of Inspection a...   \n",
       "2            PLOS ONE  [(Wan, Ying-Wooi,  Baylor College of Medicine)...   \n",
       "3     Genome Research  [(Nadeau, Nicola,  University of Cambridge), (...   \n",
       "4           Pre print  [(Corpas, Manuel,  Independent), (Cariaso, Mik...   \n",
       "\n",
       "                              Link  \\\n",
       "0  https://doi.org/10.1101/000414    \n",
       "1  https://doi.org/10.1101/000364    \n",
       "2  https://doi.org/10.1101/000315    \n",
       "3  https://doi.org/10.1101/000208    \n",
       "4  https://doi.org/10.1101/000216    \n",
       "\n",
       "                                            Abstract  \\\n",
       "0  There are significant differences in the biolo...   \n",
       "1  Sampling is a fundamental tool in ecology and ...   \n",
       "2  Dysregulated microRNA (miRNA) expression is a ...   \n",
       "3  Hybrid zones can be valuable tools for studyin...   \n",
       "4  BACKGROUND: The availability of open access ge...   \n",
       "\n",
       "                                                Text  \\\n",
       "0  /Users/lynnyi/Documents/Projects/biorxiv-data-...   \n",
       "1  /Users/lynnyi/Documents/Projects/biorxiv-data-...   \n",
       "2  /Users/lynnyi/Documents/Projects/biorxiv-data-...   \n",
       "3  /Users/lynnyi/Documents/Projects/biorxiv-data-...   \n",
       "4  /Users/lynnyi/Documents/Projects/biorxiv-data-...   \n",
       "\n",
       "                                             Twitter  \n",
       "0                               [( 15 Nov 2013 , 2)]  \n",
       "1                               [( 15 Nov 2013 , 3)]  \n",
       "2  [( 11 Dec 2013 , 1), ( 13 Nov 2013 , 2), ( 18 ...  \n",
       "3  [( 06 Dec 2016 , 1), ( 17 Nov 2013 , 2), ( 28 ...  \n",
       "4  [( 29 Jun 2014 , 1), ( 15 Nov 2013 , 6), ( 04 ...  "
      ]
     },
     "execution_count": 37,
     "metadata": {},
     "output_type": "execute_result"
    }
   ],
   "source": [
    "df.head()"
   ]
  },
  {
   "cell_type": "code",
   "execution_count": 160,
   "metadata": {},
   "outputs": [],
   "source": [
    "df = df.reset_index(drop=True)\n",
    "twtr = df['Twitter']\n",
    "jrnl = df['Journal']"
   ]
  },
  {
   "cell_type": "code",
   "execution_count": 310,
   "metadata": {},
   "outputs": [
    {
     "data": {
      "text/plain": [
       "['[',\n",
       " '(',\n",
       " ' ',\n",
       " '1',\n",
       " '1',\n",
       " ' ',\n",
       " 'D',\n",
       " 'e',\n",
       " 'c',\n",
       " ' ',\n",
       " '2',\n",
       " '0',\n",
       " '1',\n",
       " '3',\n",
       " ' ',\n",
       " ',',\n",
       " ' ',\n",
       " '1',\n",
       " ')',\n",
       " ',',\n",
       " ' ',\n",
       " '(',\n",
       " ' ',\n",
       " '1',\n",
       " '3',\n",
       " ' ',\n",
       " 'N',\n",
       " 'o',\n",
       " 'v',\n",
       " ' ',\n",
       " '2',\n",
       " '0',\n",
       " '1',\n",
       " '3',\n",
       " ' ',\n",
       " ',',\n",
       " ' ',\n",
       " '2',\n",
       " ')',\n",
       " ',',\n",
       " ' ',\n",
       " '(',\n",
       " ' ',\n",
       " '1',\n",
       " '8',\n",
       " ' ',\n",
       " 'D',\n",
       " 'e',\n",
       " 'c',\n",
       " ' ',\n",
       " '2',\n",
       " '0',\n",
       " '1',\n",
       " '3',\n",
       " ' ',\n",
       " ',',\n",
       " ' ',\n",
       " '2',\n",
       " ')',\n",
       " ']']"
      ]
     },
     "execution_count": 310,
     "metadata": {},
     "output_type": "execute_result"
    }
   ],
   "source": [
    "string = list(twtr[2])\n",
    "string"
   ]
  },
  {
   "cell_type": "code",
   "execution_count": 151,
   "metadata": {},
   "outputs": [],
   "source": [
    "def convert(in_str):\n",
    "    result = []\n",
    "    current_tuple = []\n",
    "    for token in result.split(\",\"):\n",
    "        number = int(token.replace(\"(\",\"\").replace(\")\", \"\"))\n",
    "        current_tuple.append(number)\n",
    "        if \")\" in token:\n",
    "           result.append(tuple(current_tuple))\n",
    "           current_tuple = []\n",
    "    return result"
   ]
  },
  {
   "cell_type": "code",
   "execution_count": 105,
   "metadata": {},
   "outputs": [],
   "source": [
    "dates = []\n",
    "rts = []\n",
    "for item in twtr:\n",
    "    series = item.split(',')\n",
    "    for elem in range(len(series)):\n",
    "        if elem%2==0:\n",
    "            date = series[elem][3:-1]\n",
    "            dates.append(date)\n",
    "        if elem%2 ==1:\n",
    "            num_rt = series[elem][1:-1]\n",
    "            rts.append(num_rt)"
   ]
  },
  {
   "cell_type": "code",
   "execution_count": 294,
   "metadata": {},
   "outputs": [],
   "source": [
    "doj = {}\n",
    "for j in jrnl:\n",
    "    if j in doj:\n",
    "        doj[j]+=1\n",
    "    else:\n",
    "        doj[j] = 1\n",
    "# sort doj\n",
    "\n",
    "doj = dict((k,int(v)) for k,v in doj.iteritems())\n",
    "#doj = sorted(doj.items(), key=operator.itemgetter(1))\n",
    "#doj = np.fliplr(np.array([list(elem) for elem in doj]))\n",
    "li = pd.Series(doj)\n",
    "li = li.sort_values()\n",
    "li = li.iloc[::-1]"
   ]
  },
  {
   "cell_type": "code",
   "execution_count": 222,
   "metadata": {},
   "outputs": [
    {
     "name": "stdout",
     "output_type": "stream",
     "text": [
      "[ 0  1  2  3  4  5  6  7  8  9 10 11 12 13 14 15 16 17 18 19 20 21 22 23 24\n",
      " 25 26 27 28 29 30 31 32 33 34 35 36 37 38 39 40 41 42 43 44 45 46 47 48]\n"
     ]
    }
   ],
   "source": [
    "\n",
    "xticks = doj[:,1][-50:-1]\n",
    "y = doj[:,0][-50:-1]\n",
    "x = np.arange(len(xticks))\n",
    "print x"
   ]
  },
  {
   "cell_type": "code",
   "execution_count": 228,
   "metadata": {},
   "outputs": [
    {
     "data": {
      "image/png": "[encoded data removed]",
      "text/plain": [
       "<matplotlib.figure.Figure at 0x1236e4ed0>"
      ]
     },
     "metadata": {},
     "output_type": "display_data"
    }
   ],
   "source": [
    "#plt.xticks(x, xticks)\n",
    "plt.legend(xticks)\n",
    "plt.bar(x, y)\n",
    "plt.show()"
   ]
  },
  {
   "cell_type": "code",
   "execution_count": 300,
   "metadata": {},
   "outputs": [],
   "source": [
    "\n"
   ]
  },
  {
   "cell_type": "code",
   "execution_count": 303,
   "metadata": {},
   "outputs": [
    {
     "data": {
      "text/plain": [
       "Pre print                                 2087\n",
       "PLOS ONE                                   171\n",
       "Scientific Reports                         133\n",
       "Bioinformatics                             129\n",
       "eLife                                      105\n",
       "Genetics                                   103\n",
       "PLOS Genetics                               87\n",
       "PLOS Computational Biology                  87\n",
       "PNAS                                        82\n",
       "Nucleic Acids Research                      71\n",
       "G3: Genes|Genomes|Genetics                  70\n",
       "Genome Biology                              62\n",
       "Nature Communications                       61\n",
       "Genome Research                             59\n",
       "BMC Genomics                                55\n",
       "Molecular Biology and Evolution             46\n",
       "BMC Bioinformatics                          40\n",
       "Nature Methods                              36\n",
       "Nature Genetics                             35\n",
       "PeerJ                                       32\n",
       "Molecular Ecology                           28\n",
       "Genome Biology and Evolution                28\n",
       "F1000Research                               25\n",
       "Evolution                                   24\n",
       "GigaScience                                 23\n",
       "Systematic Biology                          22\n",
       "NeuroImage                                  22\n",
       "American Journal of Human Genetics          21\n",
       "Journal of Theoretical Biology              21\n",
       "Nature                                      20\n",
       "Nature Neuroscience                         18\n",
       "Journal of the Royal Society Interface      18\n",
       "Cell Reports                                18\n",
       "PLOS Neglected Tropical Diseases            17\n",
       "Genome Medicine                             17\n",
       "Biophysical Journal                         16\n",
       "Molecular Ecology Resources                 15\n",
       "Frontiers in Microbiology                   14\n",
       "PLOS Biology                                14\n",
       "Science                                     14\n",
       "Development                                 14\n",
       "PLOS Pathogens                              13\n",
       "Journal of Neuroscience                     13\n",
       "Biology Open                                13\n",
       "ACS Synthetic Biology                       13\n",
       "mBio                                        13\n",
       "Proceedings B                               13\n",
       "Theoretical Population Biology              12\n",
       "Molecular Biology And Evolution             12\n",
       "Neuron                                      11\n",
       "dtype: int64"
      ]
     },
     "execution_count": 303,
     "metadata": {},
     "output_type": "execute_result"
    }
   ],
   "source": [
    "li.head(50)"
   ]
  }
 ],
 "metadata": {
  "kernelspec": {
   "display_name": "Python 2",
   "language": "python",
   "name": "python2"
  },
  "language_info": {
   "codemirror_mode": {
    "name": "ipython",
    "version": 2
   },
   "file_extension": ".py",
   "mimetype": "text/x-python",
   "name": "python",
   "nbconvert_exporter": "python",
   "pygments_lexer": "ipython2",
   "version": "2.7.13"
  }
 },
 "nbformat": 4,
 "nbformat_minor": 2
}
