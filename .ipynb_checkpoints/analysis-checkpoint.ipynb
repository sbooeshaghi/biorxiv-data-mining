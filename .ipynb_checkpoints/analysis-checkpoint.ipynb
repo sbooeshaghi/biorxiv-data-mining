{
 "cells": [
  {
   "cell_type": "markdown",
   "metadata": {},
   "source": [
    "# Analyzing Biorxiv Data"
   ]
  },
  {
   "cell_type": "markdown",
   "metadata": {},
   "source": [
    "### *Created: 6 May 2018*\n",
    "#### Author: Ali Sina Booeshaghi\n",
    "#### Summary: This notebook summarizes the efforts to analyze the Biorxiv Data. "
   ]
  },
  {
   "cell_type": "markdown",
   "metadata": {},
   "source": [
    "## **Load the Data**"
   ]
  },
  {
   "cell_type": "code",
   "execution_count": 21,
   "metadata": {},
   "outputs": [
    {
     "name": "stdout",
     "output_type": "stream",
     "text": [
      "CPU times: user 1 µs, sys: 1 µs, total: 2 µs\n",
      "Wall time: 4.05 µs\n"
     ]
    },
    {
     "data": {
      "text/html": [
       "\n",
       "    <div class=\"bk-root\">\n",
       "        <a href=\"https://bokeh.pydata.org\" target=\"_blank\" class=\"bk-logo bk-logo-small bk-logo-notebook\"></a>\n",
       "        <span id=\"84916549-33fd-4f0b-82c9-830ecd79bf9e\">Loading BokehJS ...</span>\n",
       "    </div>"
      ]
     },
     "metadata": {},
     "output_type": "display_data"
    },
    {
     "data": {
      "application/javascript": [
       "\n",
       "(function(root) {\n",
       "  function now() {\n",
       "    return new Date();\n",
       "  }\n",
       "\n",
       "  var force = true;\n",
       "\n",
       "  if (typeof (root._bokeh_onload_callbacks) === \"undefined\" || force === true) {\n",
       "    root._bokeh_onload_callbacks = [];\n",
       "    root._bokeh_is_loading = undefined;\n",
       "  }\n",
       "\n",
       "  var JS_MIME_TYPE = 'application/javascript';\n",
       "  var HTML_MIME_TYPE = 'text/html';\n",
       "  var EXEC_MIME_TYPE = 'application/vnd.bokehjs_exec.v0+json';\n",
       "  var CLASS_NAME = 'output_bokeh rendered_html';\n",
       "\n",
       "  /**\n",
       "   * Render data to the DOM node\n",
       "   */\n",
       "  function render(props, node) {\n",
       "    var script = document.createElement(\"script\");\n",
       "    node.appendChild(script);\n",
       "  }\n",
       "\n",
       "  /**\n",
       "   * Handle when an output is cleared or removed\n",
       "   */\n",
       "  function handleClearOutput(event, handle) {\n",
       "    var cell = handle.cell;\n",
       "\n",
       "    var id = cell.output_area._bokeh_element_id;\n",
       "    var server_id = cell.output_area._bokeh_server_id;\n",
       "    // Clean up Bokeh references\n",
       "    if (id !== undefined) {\n",
       "      Bokeh.index[id].model.document.clear();\n",
       "      delete Bokeh.index[id];\n",
       "    }\n",
       "\n",
       "    if (server_id !== undefined) {\n",
       "      // Clean up Bokeh references\n",
       "      var cmd = \"from bokeh.io.state import curstate; print(curstate().uuid_to_server['\" + server_id + \"'].get_sessions()[0].document.roots[0]._id)\";\n",
       "      cell.notebook.kernel.execute(cmd, {\n",
       "        iopub: {\n",
       "          output: function(msg) {\n",
       "            var element_id = msg.content.text.trim();\n",
       "            Bokeh.index[element_id].model.document.clear();\n",
       "            delete Bokeh.index[element_id];\n",
       "          }\n",
       "        }\n",
       "      });\n",
       "      // Destroy server and session\n",
       "      var cmd = \"import bokeh.io.notebook as ion; ion.destroy_server('\" + server_id + \"')\";\n",
       "      cell.notebook.kernel.execute(cmd);\n",
       "    }\n",
       "  }\n",
       "\n",
       "  /**\n",
       "   * Handle when a new output is added\n",
       "   */\n",
       "  function handleAddOutput(event, handle) {\n",
       "    var output_area = handle.output_area;\n",
       "    var output = handle.output;\n",
       "\n",
       "    // limit handleAddOutput to display_data with EXEC_MIME_TYPE content only\n",
       "    if ((output.output_type != \"display_data\") || (!output.data.hasOwnProperty(EXEC_MIME_TYPE))) {\n",
       "      return\n",
       "    }\n",
       "\n",
       "    var toinsert = output_area.element.find(\".\" + CLASS_NAME.split(' ')[0]);\n",
       "\n",
       "    if (output.metadata[EXEC_MIME_TYPE][\"id\"] !== undefined) {\n",
       "      toinsert[toinsert.length - 1].firstChild.textContent = output.data[JS_MIME_TYPE];\n",
       "      // store reference to embed id on output_area\n",
       "      output_area._bokeh_element_id = output.metadata[EXEC_MIME_TYPE][\"id\"];\n",
       "    }\n",
       "    if (output.metadata[EXEC_MIME_TYPE][\"server_id\"] !== undefined) {\n",
       "      var bk_div = document.createElement(\"div\");\n",
       "      bk_div.innerHTML = output.data[HTML_MIME_TYPE];\n",
       "      var script_attrs = bk_div.children[0].attributes;\n",
       "      for (var i = 0; i < script_attrs.length; i++) {\n",
       "        toinsert[toinsert.length - 1].firstChild.setAttribute(script_attrs[i].name, script_attrs[i].value);\n",
       "      }\n",
       "      // store reference to server id on output_area\n",
       "      output_area._bokeh_server_id = output.metadata[EXEC_MIME_TYPE][\"server_id\"];\n",
       "    }\n",
       "  }\n",
       "\n",
       "  function register_renderer(events, OutputArea) {\n",
       "\n",
       "    function append_mime(data, metadata, element) {\n",
       "      // create a DOM node to render to\n",
       "      var toinsert = this.create_output_subarea(\n",
       "        metadata,\n",
       "        CLASS_NAME,\n",
       "        EXEC_MIME_TYPE\n",
       "      );\n",
       "      this.keyboard_manager.register_events(toinsert);\n",
       "      // Render to node\n",
       "      var props = {data: data, metadata: metadata[EXEC_MIME_TYPE]};\n",
       "      render(props, toinsert[toinsert.length - 1]);\n",
       "      element.append(toinsert);\n",
       "      return toinsert\n",
       "    }\n",
       "\n",
       "    /* Handle when an output is cleared or removed */\n",
       "    events.on('clear_output.CodeCell', handleClearOutput);\n",
       "    events.on('delete.Cell', handleClearOutput);\n",
       "\n",
       "    /* Handle when a new output is added */\n",
       "    events.on('output_added.OutputArea', handleAddOutput);\n",
       "\n",
       "    /**\n",
       "     * Register the mime type and append_mime function with output_area\n",
       "     */\n",
       "    OutputArea.prototype.register_mime_type(EXEC_MIME_TYPE, append_mime, {\n",
       "      /* Is output safe? */\n",
       "      safe: true,\n",
       "      /* Index of renderer in `output_area.display_order` */\n",
       "      index: 0\n",
       "    });\n",
       "  }\n",
       "\n",
       "  // register the mime type if in Jupyter Notebook environment and previously unregistered\n",
       "  if (root.Jupyter !== undefined) {\n",
       "    var events = require('base/js/events');\n",
       "    var OutputArea = require('notebook/js/outputarea').OutputArea;\n",
       "\n",
       "    if (OutputArea.prototype.mime_types().indexOf(EXEC_MIME_TYPE) == -1) {\n",
       "      register_renderer(events, OutputArea);\n",
       "    }\n",
       "  }\n",
       "\n",
       "  \n",
       "  if (typeof (root._bokeh_timeout) === \"undefined\" || force === true) {\n",
       "    root._bokeh_timeout = Date.now() + 5000;\n",
       "    root._bokeh_failed_load = false;\n",
       "  }\n",
       "\n",
       "  var NB_LOAD_WARNING = {'data': {'text/html':\n",
       "     \"<div style='background-color: #fdd'>\\n\"+\n",
       "     \"<p>\\n\"+\n",
       "     \"BokehJS does not appear to have successfully loaded. If loading BokehJS from CDN, this \\n\"+\n",
       "     \"may be due to a slow or bad network connection. Possible fixes:\\n\"+\n",
       "     \"</p>\\n\"+\n",
       "     \"<ul>\\n\"+\n",
       "     \"<li>re-rerun `output_notebook()` to attempt to load from CDN again, or</li>\\n\"+\n",
       "     \"<li>use INLINE resources instead, as so:</li>\\n\"+\n",
       "     \"</ul>\\n\"+\n",
       "     \"<code>\\n\"+\n",
       "     \"from bokeh.resources import INLINE\\n\"+\n",
       "     \"output_notebook(resources=INLINE)\\n\"+\n",
       "     \"</code>\\n\"+\n",
       "     \"</div>\"}};\n",
       "\n",
       "  function display_loaded() {\n",
       "    var el = document.getElementById(\"84916549-33fd-4f0b-82c9-830ecd79bf9e\");\n",
       "    if (el != null) {\n",
       "      el.textContent = \"BokehJS is loading...\";\n",
       "    }\n",
       "    if (root.Bokeh !== undefined) {\n",
       "      if (el != null) {\n",
       "        el.textContent = \"BokehJS \" + root.Bokeh.version + \" successfully loaded.\";\n",
       "      }\n",
       "    } else if (Date.now() < root._bokeh_timeout) {\n",
       "      setTimeout(display_loaded, 100)\n",
       "    }\n",
       "  }\n",
       "\n",
       "\n",
       "  function run_callbacks() {\n",
       "    try {\n",
       "      root._bokeh_onload_callbacks.forEach(function(callback) { callback() });\n",
       "    }\n",
       "    finally {\n",
       "      delete root._bokeh_onload_callbacks\n",
       "    }\n",
       "    console.info(\"Bokeh: all callbacks have finished\");\n",
       "  }\n",
       "\n",
       "  function load_libs(js_urls, callback) {\n",
       "    root._bokeh_onload_callbacks.push(callback);\n",
       "    if (root._bokeh_is_loading > 0) {\n",
       "      console.log(\"Bokeh: BokehJS is being loaded, scheduling callback at\", now());\n",
       "      return null;\n",
       "    }\n",
       "    if (js_urls == null || js_urls.length === 0) {\n",
       "      run_callbacks();\n",
       "      return null;\n",
       "    }\n",
       "    console.log(\"Bokeh: BokehJS not loaded, scheduling load and callback at\", now());\n",
       "    root._bokeh_is_loading = js_urls.length;\n",
       "    for (var i = 0; i < js_urls.length; i++) {\n",
       "      var url = js_urls[i];\n",
       "      var s = document.createElement('script');\n",
       "      s.src = url;\n",
       "      s.async = false;\n",
       "      s.onreadystatechange = s.onload = function() {\n",
       "        root._bokeh_is_loading--;\n",
       "        if (root._bokeh_is_loading === 0) {\n",
       "          console.log(\"Bokeh: all BokehJS libraries loaded\");\n",
       "          run_callbacks()\n",
       "        }\n",
       "      };\n",
       "      s.onerror = function() {\n",
       "        console.warn(\"failed to load library \" + url);\n",
       "      };\n",
       "      console.log(\"Bokeh: injecting script tag for BokehJS library: \", url);\n",
       "      document.getElementsByTagName(\"head\")[0].appendChild(s);\n",
       "    }\n",
       "  };var element = document.getElementById(\"84916549-33fd-4f0b-82c9-830ecd79bf9e\");\n",
       "  if (element == null) {\n",
       "    console.log(\"Bokeh: ERROR: autoload.js configured with elementid '84916549-33fd-4f0b-82c9-830ecd79bf9e' but no matching script tag was found. \")\n",
       "    return false;\n",
       "  }\n",
       "\n",
       "  var js_urls = [\"https://cdn.pydata.org/bokeh/release/bokeh-0.12.16.min.js\", \"https://cdn.pydata.org/bokeh/release/bokeh-widgets-0.12.16.min.js\", \"https://cdn.pydata.org/bokeh/release/bokeh-tables-0.12.16.min.js\", \"https://cdn.pydata.org/bokeh/release/bokeh-gl-0.12.16.min.js\"];\n",
       "\n",
       "  var inline_js = [\n",
       "    function(Bokeh) {\n",
       "      Bokeh.set_log_level(\"info\");\n",
       "    },\n",
       "    \n",
       "    function(Bokeh) {\n",
       "      \n",
       "    },\n",
       "    function(Bokeh) {\n",
       "      console.log(\"Bokeh: injecting CSS: https://cdn.pydata.org/bokeh/release/bokeh-0.12.16.min.css\");\n",
       "      Bokeh.embed.inject_css(\"https://cdn.pydata.org/bokeh/release/bokeh-0.12.16.min.css\");\n",
       "      console.log(\"Bokeh: injecting CSS: https://cdn.pydata.org/bokeh/release/bokeh-widgets-0.12.16.min.css\");\n",
       "      Bokeh.embed.inject_css(\"https://cdn.pydata.org/bokeh/release/bokeh-widgets-0.12.16.min.css\");\n",
       "      console.log(\"Bokeh: injecting CSS: https://cdn.pydata.org/bokeh/release/bokeh-tables-0.12.16.min.css\");\n",
       "      Bokeh.embed.inject_css(\"https://cdn.pydata.org/bokeh/release/bokeh-tables-0.12.16.min.css\");\n",
       "    }\n",
       "  ];\n",
       "\n",
       "  function run_inline_js() {\n",
       "    \n",
       "    if ((root.Bokeh !== undefined) || (force === true)) {\n",
       "      for (var i = 0; i < inline_js.length; i++) {\n",
       "        inline_js[i].call(root, root.Bokeh);\n",
       "      }if (force === true) {\n",
       "        display_loaded();\n",
       "      }} else if (Date.now() < root._bokeh_timeout) {\n",
       "      setTimeout(run_inline_js, 100);\n",
       "    } else if (!root._bokeh_failed_load) {\n",
       "      console.log(\"Bokeh: BokehJS failed to load within specified timeout.\");\n",
       "      root._bokeh_failed_load = true;\n",
       "    } else if (force !== true) {\n",
       "      var cell = $(document.getElementById(\"84916549-33fd-4f0b-82c9-830ecd79bf9e\")).parents('.cell').data().cell;\n",
       "      cell.output_area.append_execute_result(NB_LOAD_WARNING)\n",
       "    }\n",
       "\n",
       "  }\n",
       "\n",
       "  if (root._bokeh_is_loading === 0) {\n",
       "    console.log(\"Bokeh: BokehJS loaded, going straight to plotting\");\n",
       "    run_inline_js();\n",
       "  } else {\n",
       "    load_libs(js_urls, function() {\n",
       "      console.log(\"Bokeh: BokehJS plotting callback run at\", now());\n",
       "      run_inline_js();\n",
       "    });\n",
       "  }\n",
       "}(window));"
      ],
      "application/vnd.bokehjs_load.v0+json": "\n(function(root) {\n  function now() {\n    return new Date();\n  }\n\n  var force = true;\n\n  if (typeof (root._bokeh_onload_callbacks) === \"undefined\" || force === true) {\n    root._bokeh_onload_callbacks = [];\n    root._bokeh_is_loading = undefined;\n  }\n\n  \n\n  \n  if (typeof (root._bokeh_timeout) === \"undefined\" || force === true) {\n    root._bokeh_timeout = Date.now() + 5000;\n    root._bokeh_failed_load = false;\n  }\n\n  var NB_LOAD_WARNING = {'data': {'text/html':\n     \"<div style='background-color: #fdd'>\\n\"+\n     \"<p>\\n\"+\n     \"BokehJS does not appear to have successfully loaded. If loading BokehJS from CDN, this \\n\"+\n     \"may be due to a slow or bad network connection. Possible fixes:\\n\"+\n     \"</p>\\n\"+\n     \"<ul>\\n\"+\n     \"<li>re-rerun `output_notebook()` to attempt to load from CDN again, or</li>\\n\"+\n     \"<li>use INLINE resources instead, as so:</li>\\n\"+\n     \"</ul>\\n\"+\n     \"<code>\\n\"+\n     \"from bokeh.resources import INLINE\\n\"+\n     \"output_notebook(resources=INLINE)\\n\"+\n     \"</code>\\n\"+\n     \"</div>\"}};\n\n  function display_loaded() {\n    var el = document.getElementById(\"84916549-33fd-4f0b-82c9-830ecd79bf9e\");\n    if (el != null) {\n      el.textContent = \"BokehJS is loading...\";\n    }\n    if (root.Bokeh !== undefined) {\n      if (el != null) {\n        el.textContent = \"BokehJS \" + root.Bokeh.version + \" successfully loaded.\";\n      }\n    } else if (Date.now() < root._bokeh_timeout) {\n      setTimeout(display_loaded, 100)\n    }\n  }\n\n\n  function run_callbacks() {\n    try {\n      root._bokeh_onload_callbacks.forEach(function(callback) { callback() });\n    }\n    finally {\n      delete root._bokeh_onload_callbacks\n    }\n    console.info(\"Bokeh: all callbacks have finished\");\n  }\n\n  function load_libs(js_urls, callback) {\n    root._bokeh_onload_callbacks.push(callback);\n    if (root._bokeh_is_loading > 0) {\n      console.log(\"Bokeh: BokehJS is being loaded, scheduling callback at\", now());\n      return null;\n    }\n    if (js_urls == null || js_urls.length === 0) {\n      run_callbacks();\n      return null;\n    }\n    console.log(\"Bokeh: BokehJS not loaded, scheduling load and callback at\", now());\n    root._bokeh_is_loading = js_urls.length;\n    for (var i = 0; i < js_urls.length; i++) {\n      var url = js_urls[i];\n      var s = document.createElement('script');\n      s.src = url;\n      s.async = false;\n      s.onreadystatechange = s.onload = function() {\n        root._bokeh_is_loading--;\n        if (root._bokeh_is_loading === 0) {\n          console.log(\"Bokeh: all BokehJS libraries loaded\");\n          run_callbacks()\n        }\n      };\n      s.onerror = function() {\n        console.warn(\"failed to load library \" + url);\n      };\n      console.log(\"Bokeh: injecting script tag for BokehJS library: \", url);\n      document.getElementsByTagName(\"head\")[0].appendChild(s);\n    }\n  };var element = document.getElementById(\"84916549-33fd-4f0b-82c9-830ecd79bf9e\");\n  if (element == null) {\n    console.log(\"Bokeh: ERROR: autoload.js configured with elementid '84916549-33fd-4f0b-82c9-830ecd79bf9e' but no matching script tag was found. \")\n    return false;\n  }\n\n  var js_urls = [\"https://cdn.pydata.org/bokeh/release/bokeh-0.12.16.min.js\", \"https://cdn.pydata.org/bokeh/release/bokeh-widgets-0.12.16.min.js\", \"https://cdn.pydata.org/bokeh/release/bokeh-tables-0.12.16.min.js\", \"https://cdn.pydata.org/bokeh/release/bokeh-gl-0.12.16.min.js\"];\n\n  var inline_js = [\n    function(Bokeh) {\n      Bokeh.set_log_level(\"info\");\n    },\n    \n    function(Bokeh) {\n      \n    },\n    function(Bokeh) {\n      console.log(\"Bokeh: injecting CSS: https://cdn.pydata.org/bokeh/release/bokeh-0.12.16.min.css\");\n      Bokeh.embed.inject_css(\"https://cdn.pydata.org/bokeh/release/bokeh-0.12.16.min.css\");\n      console.log(\"Bokeh: injecting CSS: https://cdn.pydata.org/bokeh/release/bokeh-widgets-0.12.16.min.css\");\n      Bokeh.embed.inject_css(\"https://cdn.pydata.org/bokeh/release/bokeh-widgets-0.12.16.min.css\");\n      console.log(\"Bokeh: injecting CSS: https://cdn.pydata.org/bokeh/release/bokeh-tables-0.12.16.min.css\");\n      Bokeh.embed.inject_css(\"https://cdn.pydata.org/bokeh/release/bokeh-tables-0.12.16.min.css\");\n    }\n  ];\n\n  function run_inline_js() {\n    \n    if ((root.Bokeh !== undefined) || (force === true)) {\n      for (var i = 0; i < inline_js.length; i++) {\n        inline_js[i].call(root, root.Bokeh);\n      }if (force === true) {\n        display_loaded();\n      }} else if (Date.now() < root._bokeh_timeout) {\n      setTimeout(run_inline_js, 100);\n    } else if (!root._bokeh_failed_load) {\n      console.log(\"Bokeh: BokehJS failed to load within specified timeout.\");\n      root._bokeh_failed_load = true;\n    } else if (force !== true) {\n      var cell = $(document.getElementById(\"84916549-33fd-4f0b-82c9-830ecd79bf9e\")).parents('.cell').data().cell;\n      cell.output_area.append_execute_result(NB_LOAD_WARNING)\n    }\n\n  }\n\n  if (root._bokeh_is_loading === 0) {\n    console.log(\"Bokeh: BokehJS loaded, going straight to plotting\");\n    run_inline_js();\n  } else {\n    load_libs(js_urls, function() {\n      console.log(\"Bokeh: BokehJS plotting callback run at\", now());\n      run_inline_js();\n    });\n  }\n}(window));"
     },
     "metadata": {},
     "output_type": "display_data"
    }
   ],
   "source": [
    "%matplotlib inline\n",
    "%time\n",
    "\n",
    "## Cell to import all packages\n",
    "import json\n",
    "import os\n",
    "import operator\n",
    "import pprint\n",
    "import matplotlib.dates as mdates\n",
    "import matplotlib.pyplot as plt\n",
    "import numpy as np\n",
    "from dateutil import parser\n",
    "import pandas as pd\n",
    "from numpy import loadtxt\n",
    "from uuid import uuid4\n",
    "import ctypes\n",
    "import hashlib\n",
    "import pandas as pd\n",
    "import re\n",
    "\n",
    "from nltk.corpus import stopwords\n",
    "from nltk.stem import SnowballStemmer\n",
    "from sklearn.feature_extraction.text import TfidfVectorizer\n",
    "from sklearn.svm import LinearSVC\n",
    "from sklearn.pipeline import Pipeline\n",
    "from sklearn.model_selection import train_test_split\n",
    "from sklearn.feature_selection import SelectKBest, chi2\n",
    "\n",
    "from bokeh.plotting import figure, gridplot\n",
    "from bokeh.io import output_notebook, show\n",
    "\n",
    "# for fuuzzy string matching\n",
    "from fuzzywuzzy import fuzz\n",
    "from fuzzywuzzy import process\n",
    "\n",
    "# use the convention variable_name\n",
    "\n",
    "output_notebook()\n"
   ]
  },
  {
   "cell_type": "code",
   "execution_count": 12,
   "metadata": {},
   "outputs": [
    {
     "name": "stdout",
     "output_type": "stream",
     "text": [
      "CPU times: user 2 µs, sys: 1 µs, total: 3 µs\n",
      "Wall time: 4.05 µs\n"
     ]
    }
   ],
   "source": [
    "%time\n",
    "# Load the smallest file, change data1.txt -> data21.txt for full data\n",
    "path_to_data = os.getcwd() + '/complete_data_2018_5_11/data/data1.txt'\n",
    "path_to_summary = os.getcwd() + '/complete_data_2018_5_11/analysis/journal_summary.txt'\n",
    "path_to_save = os.getcwd() + '/complete_data_2018_5_11/analysis'\n",
    "\n",
    "\n",
    "with open(path_to_data, 'rb') as f:\n",
    "    papers = json.load(f)\n",
    "\n",
    "with open(path_to_summary, 'rb') as f:\n",
    "    journal_summary = json.load(f)\n",
    "    \n",
    "# The way to access the data is as follows:\n",
    "# papers['papers'] gives you a list of all of the downloaded papers\n",
    "# papers['papers'][0] gives you the first one\n",
    "# papers['papers'][0][keyword] for keyword in ['abstract', 'authors', 'date', 'journal', 'link', 'text', 'title', 'twitter'] to access that info\n",
    "\n",
    "data = pd.DataFrame(papers['papers'])\n",
    "stemmer = SnowballStemmer('english')\n",
    "words = stopwords.words(\"english\")"
   ]
  },
  {
   "cell_type": "code",
   "execution_count": 13,
   "metadata": {},
   "outputs": [],
   "source": [
    "fix = data['twitter'][1004]\n",
    "data['twitter'][1004] = fix[1:]"
   ]
  },
  {
   "cell_type": "code",
   "execution_count": 14,
   "metadata": {},
   "outputs": [
    {
     "data": {
      "text/plain": [
       "[[u' 19 Dec 2014 ', 6],\n",
       " [u' 22 Dec 2014 ', 3],\n",
       " [u' 24 Dec 2014 ', 1],\n",
       " [u' 20 Dec 2014 ', 6],\n",
       " [u' 13 Feb 2015 ', 9],\n",
       " [u' 12 Feb 2015 ', 1],\n",
       " [u' 16 Feb 2015 ', 5],\n",
       " [u' 21 Dec 2014 ', 2]]"
      ]
     },
     "execution_count": 14,
     "metadata": {},
     "output_type": "execute_result"
    }
   ],
   "source": [
    "data['twitter'][1004]"
   ]
  },
  {
   "cell_type": "markdown",
   "metadata": {},
   "source": [
    "## **Using the categories as lables in a classifier**"
   ]
  },
  {
   "cell_type": "code",
   "execution_count": 33,
   "metadata": {},
   "outputs": [
    {
     "ename": "ValueError",
     "evalue": "You appear to be using a legacy multi-label data representation. Sequence of sequences are no longer supported; use a binary array or sparse matrix instead.",
     "output_type": "error",
     "traceback": [
      "\u001b[0;31m---------------------------------------------------------------------------\u001b[0m",
      "\u001b[0;31mValueError\u001b[0m                                Traceback (most recent call last)",
      "\u001b[0;32m<ipython-input-33-9dd2e2438527>\u001b[0m in \u001b[0;36m<module>\u001b[0;34m()\u001b[0m\n\u001b[1;32m      6\u001b[0m                      ('clf', LinearSVC(C=1.0, penalty='l1', max_iter=3000, dual=False))])\n\u001b[1;32m      7\u001b[0m \u001b[0;34m\u001b[0m\u001b[0m\n\u001b[0;32m----> 8\u001b[0;31m \u001b[0mmodel\u001b[0m \u001b[0;34m=\u001b[0m \u001b[0mpipeline\u001b[0m\u001b[0;34m.\u001b[0m\u001b[0mfit\u001b[0m\u001b[0;34m(\u001b[0m\u001b[0mX_train\u001b[0m\u001b[0;34m,\u001b[0m \u001b[0my_train\u001b[0m\u001b[0;34m)\u001b[0m\u001b[0;34m\u001b[0m\u001b[0m\n\u001b[0m\u001b[1;32m      9\u001b[0m \u001b[0;34m\u001b[0m\u001b[0m\n\u001b[1;32m     10\u001b[0m \u001b[0mvectorizer\u001b[0m \u001b[0;34m=\u001b[0m \u001b[0mmodel\u001b[0m\u001b[0;34m.\u001b[0m\u001b[0mnamed_steps\u001b[0m\u001b[0;34m[\u001b[0m\u001b[0;34m'vect'\u001b[0m\u001b[0;34m]\u001b[0m\u001b[0;34m\u001b[0m\u001b[0m\n",
      "\u001b[0;32m/Users/sinabooeshaghi/software/anaconda/lib/python2.7/site-packages/sklearn/pipeline.pyc\u001b[0m in \u001b[0;36mfit\u001b[0;34m(self, X, y, **fit_params)\u001b[0m\n\u001b[1;32m    266\u001b[0m             \u001b[0mThis\u001b[0m \u001b[0mestimator\u001b[0m\u001b[0;34m\u001b[0m\u001b[0m\n\u001b[1;32m    267\u001b[0m         \"\"\"\n\u001b[0;32m--> 268\u001b[0;31m         \u001b[0mXt\u001b[0m\u001b[0;34m,\u001b[0m \u001b[0mfit_params\u001b[0m \u001b[0;34m=\u001b[0m \u001b[0mself\u001b[0m\u001b[0;34m.\u001b[0m\u001b[0m_fit\u001b[0m\u001b[0;34m(\u001b[0m\u001b[0mX\u001b[0m\u001b[0;34m,\u001b[0m \u001b[0my\u001b[0m\u001b[0;34m,\u001b[0m \u001b[0;34m**\u001b[0m\u001b[0mfit_params\u001b[0m\u001b[0;34m)\u001b[0m\u001b[0;34m\u001b[0m\u001b[0m\n\u001b[0m\u001b[1;32m    269\u001b[0m         \u001b[0;32mif\u001b[0m \u001b[0mself\u001b[0m\u001b[0;34m.\u001b[0m\u001b[0m_final_estimator\u001b[0m \u001b[0;32mis\u001b[0m \u001b[0;32mnot\u001b[0m \u001b[0mNone\u001b[0m\u001b[0;34m:\u001b[0m\u001b[0;34m\u001b[0m\u001b[0m\n\u001b[1;32m    270\u001b[0m             \u001b[0mself\u001b[0m\u001b[0;34m.\u001b[0m\u001b[0m_final_estimator\u001b[0m\u001b[0;34m.\u001b[0m\u001b[0mfit\u001b[0m\u001b[0;34m(\u001b[0m\u001b[0mXt\u001b[0m\u001b[0;34m,\u001b[0m \u001b[0my\u001b[0m\u001b[0;34m,\u001b[0m \u001b[0;34m**\u001b[0m\u001b[0mfit_params\u001b[0m\u001b[0;34m)\u001b[0m\u001b[0;34m\u001b[0m\u001b[0m\n",
      "\u001b[0;32m/Users/sinabooeshaghi/software/anaconda/lib/python2.7/site-packages/sklearn/pipeline.pyc\u001b[0m in \u001b[0;36m_fit\u001b[0;34m(self, X, y, **fit_params)\u001b[0m\n\u001b[1;32m    232\u001b[0m                 \u001b[0;32mpass\u001b[0m\u001b[0;34m\u001b[0m\u001b[0m\n\u001b[1;32m    233\u001b[0m             \u001b[0;32melif\u001b[0m \u001b[0mhasattr\u001b[0m\u001b[0;34m(\u001b[0m\u001b[0mtransform\u001b[0m\u001b[0;34m,\u001b[0m \u001b[0;34m\"fit_transform\"\u001b[0m\u001b[0;34m)\u001b[0m\u001b[0;34m:\u001b[0m\u001b[0;34m\u001b[0m\u001b[0m\n\u001b[0;32m--> 234\u001b[0;31m                 \u001b[0mXt\u001b[0m \u001b[0;34m=\u001b[0m \u001b[0mtransform\u001b[0m\u001b[0;34m.\u001b[0m\u001b[0mfit_transform\u001b[0m\u001b[0;34m(\u001b[0m\u001b[0mXt\u001b[0m\u001b[0;34m,\u001b[0m \u001b[0my\u001b[0m\u001b[0;34m,\u001b[0m \u001b[0;34m**\u001b[0m\u001b[0mfit_params_steps\u001b[0m\u001b[0;34m[\u001b[0m\u001b[0mname\u001b[0m\u001b[0;34m]\u001b[0m\u001b[0;34m)\u001b[0m\u001b[0;34m\u001b[0m\u001b[0m\n\u001b[0m\u001b[1;32m    235\u001b[0m             \u001b[0;32melse\u001b[0m\u001b[0;34m:\u001b[0m\u001b[0;34m\u001b[0m\u001b[0m\n\u001b[1;32m    236\u001b[0m                 \u001b[0mXt\u001b[0m \u001b[0;34m=\u001b[0m \u001b[0mtransform\u001b[0m\u001b[0;34m.\u001b[0m\u001b[0mfit\u001b[0m\u001b[0;34m(\u001b[0m\u001b[0mXt\u001b[0m\u001b[0;34m,\u001b[0m \u001b[0my\u001b[0m\u001b[0;34m,\u001b[0m \u001b[0;34m**\u001b[0m\u001b[0mfit_params_steps\u001b[0m\u001b[0;34m[\u001b[0m\u001b[0mname\u001b[0m\u001b[0;34m]\u001b[0m\u001b[0;34m)\u001b[0m\u001b[0;31m \u001b[0m\u001b[0;31m\\\u001b[0m\u001b[0;34m\u001b[0m\u001b[0m\n",
      "\u001b[0;32m/Users/sinabooeshaghi/software/anaconda/lib/python2.7/site-packages/sklearn/base.pyc\u001b[0m in \u001b[0;36mfit_transform\u001b[0;34m(self, X, y, **fit_params)\u001b[0m\n\u001b[1;32m    495\u001b[0m         \u001b[0;32melse\u001b[0m\u001b[0;34m:\u001b[0m\u001b[0;34m\u001b[0m\u001b[0m\n\u001b[1;32m    496\u001b[0m             \u001b[0;31m# fit method of arity 2 (supervised transformation)\u001b[0m\u001b[0;34m\u001b[0m\u001b[0;34m\u001b[0m\u001b[0m\n\u001b[0;32m--> 497\u001b[0;31m             \u001b[0;32mreturn\u001b[0m \u001b[0mself\u001b[0m\u001b[0;34m.\u001b[0m\u001b[0mfit\u001b[0m\u001b[0;34m(\u001b[0m\u001b[0mX\u001b[0m\u001b[0;34m,\u001b[0m \u001b[0my\u001b[0m\u001b[0;34m,\u001b[0m \u001b[0;34m**\u001b[0m\u001b[0mfit_params\u001b[0m\u001b[0;34m)\u001b[0m\u001b[0;34m.\u001b[0m\u001b[0mtransform\u001b[0m\u001b[0;34m(\u001b[0m\u001b[0mX\u001b[0m\u001b[0;34m)\u001b[0m\u001b[0;34m\u001b[0m\u001b[0m\n\u001b[0m\u001b[1;32m    498\u001b[0m \u001b[0;34m\u001b[0m\u001b[0m\n\u001b[1;32m    499\u001b[0m \u001b[0;34m\u001b[0m\u001b[0m\n",
      "\u001b[0;32m/Users/sinabooeshaghi/software/anaconda/lib/python2.7/site-packages/sklearn/feature_selection/univariate_selection.pyc\u001b[0m in \u001b[0;36mfit\u001b[0;34m(self, X, y)\u001b[0m\n\u001b[1;32m    328\u001b[0m \u001b[0;34m\u001b[0m\u001b[0m\n\u001b[1;32m    329\u001b[0m         \u001b[0mself\u001b[0m\u001b[0;34m.\u001b[0m\u001b[0m_check_params\u001b[0m\u001b[0;34m(\u001b[0m\u001b[0mX\u001b[0m\u001b[0;34m,\u001b[0m \u001b[0my\u001b[0m\u001b[0;34m)\u001b[0m\u001b[0;34m\u001b[0m\u001b[0m\n\u001b[0;32m--> 330\u001b[0;31m         \u001b[0mscore_func_ret\u001b[0m \u001b[0;34m=\u001b[0m \u001b[0mself\u001b[0m\u001b[0;34m.\u001b[0m\u001b[0mscore_func\u001b[0m\u001b[0;34m(\u001b[0m\u001b[0mX\u001b[0m\u001b[0;34m,\u001b[0m \u001b[0my\u001b[0m\u001b[0;34m)\u001b[0m\u001b[0;34m\u001b[0m\u001b[0m\n\u001b[0m\u001b[1;32m    331\u001b[0m         \u001b[0;32mif\u001b[0m \u001b[0misinstance\u001b[0m\u001b[0;34m(\u001b[0m\u001b[0mscore_func_ret\u001b[0m\u001b[0;34m,\u001b[0m \u001b[0;34m(\u001b[0m\u001b[0mlist\u001b[0m\u001b[0;34m,\u001b[0m \u001b[0mtuple\u001b[0m\u001b[0;34m)\u001b[0m\u001b[0;34m)\u001b[0m\u001b[0;34m:\u001b[0m\u001b[0;34m\u001b[0m\u001b[0m\n\u001b[1;32m    332\u001b[0m             \u001b[0mself\u001b[0m\u001b[0;34m.\u001b[0m\u001b[0mscores_\u001b[0m\u001b[0;34m,\u001b[0m \u001b[0mself\u001b[0m\u001b[0;34m.\u001b[0m\u001b[0mpvalues_\u001b[0m \u001b[0;34m=\u001b[0m \u001b[0mscore_func_ret\u001b[0m\u001b[0;34m\u001b[0m\u001b[0m\n",
      "\u001b[0;32m/Users/sinabooeshaghi/software/anaconda/lib/python2.7/site-packages/sklearn/feature_selection/univariate_selection.pyc\u001b[0m in \u001b[0;36mchi2\u001b[0;34m(X, y)\u001b[0m\n\u001b[1;32m    215\u001b[0m         \u001b[0;32mraise\u001b[0m \u001b[0mValueError\u001b[0m\u001b[0;34m(\u001b[0m\u001b[0;34m\"Input X must be non-negative.\"\u001b[0m\u001b[0;34m)\u001b[0m\u001b[0;34m\u001b[0m\u001b[0m\n\u001b[1;32m    216\u001b[0m \u001b[0;34m\u001b[0m\u001b[0m\n\u001b[0;32m--> 217\u001b[0;31m     \u001b[0mY\u001b[0m \u001b[0;34m=\u001b[0m \u001b[0mLabelBinarizer\u001b[0m\u001b[0;34m(\u001b[0m\u001b[0;34m)\u001b[0m\u001b[0;34m.\u001b[0m\u001b[0mfit_transform\u001b[0m\u001b[0;34m(\u001b[0m\u001b[0my\u001b[0m\u001b[0;34m)\u001b[0m\u001b[0;34m\u001b[0m\u001b[0m\n\u001b[0m\u001b[1;32m    218\u001b[0m     \u001b[0;32mif\u001b[0m \u001b[0mY\u001b[0m\u001b[0;34m.\u001b[0m\u001b[0mshape\u001b[0m\u001b[0;34m[\u001b[0m\u001b[0;36m1\u001b[0m\u001b[0;34m]\u001b[0m \u001b[0;34m==\u001b[0m \u001b[0;36m1\u001b[0m\u001b[0;34m:\u001b[0m\u001b[0;34m\u001b[0m\u001b[0m\n\u001b[1;32m    219\u001b[0m         \u001b[0mY\u001b[0m \u001b[0;34m=\u001b[0m \u001b[0mnp\u001b[0m\u001b[0;34m.\u001b[0m\u001b[0mappend\u001b[0m\u001b[0;34m(\u001b[0m\u001b[0;36m1\u001b[0m \u001b[0;34m-\u001b[0m \u001b[0mY\u001b[0m\u001b[0;34m,\u001b[0m \u001b[0mY\u001b[0m\u001b[0;34m,\u001b[0m \u001b[0maxis\u001b[0m\u001b[0;34m=\u001b[0m\u001b[0;36m1\u001b[0m\u001b[0;34m)\u001b[0m\u001b[0;34m\u001b[0m\u001b[0m\n",
      "\u001b[0;32m/Users/sinabooeshaghi/software/anaconda/lib/python2.7/site-packages/sklearn/base.pyc\u001b[0m in \u001b[0;36mfit_transform\u001b[0;34m(self, X, y, **fit_params)\u001b[0m\n\u001b[1;32m    492\u001b[0m         \u001b[0;32mif\u001b[0m \u001b[0my\u001b[0m \u001b[0;32mis\u001b[0m \u001b[0mNone\u001b[0m\u001b[0;34m:\u001b[0m\u001b[0;34m\u001b[0m\u001b[0m\n\u001b[1;32m    493\u001b[0m             \u001b[0;31m# fit method of arity 1 (unsupervised transformation)\u001b[0m\u001b[0;34m\u001b[0m\u001b[0;34m\u001b[0m\u001b[0m\n\u001b[0;32m--> 494\u001b[0;31m             \u001b[0;32mreturn\u001b[0m \u001b[0mself\u001b[0m\u001b[0;34m.\u001b[0m\u001b[0mfit\u001b[0m\u001b[0;34m(\u001b[0m\u001b[0mX\u001b[0m\u001b[0;34m,\u001b[0m \u001b[0;34m**\u001b[0m\u001b[0mfit_params\u001b[0m\u001b[0;34m)\u001b[0m\u001b[0;34m.\u001b[0m\u001b[0mtransform\u001b[0m\u001b[0;34m(\u001b[0m\u001b[0mX\u001b[0m\u001b[0;34m)\u001b[0m\u001b[0;34m\u001b[0m\u001b[0m\n\u001b[0m\u001b[1;32m    495\u001b[0m         \u001b[0;32melse\u001b[0m\u001b[0;34m:\u001b[0m\u001b[0;34m\u001b[0m\u001b[0m\n\u001b[1;32m    496\u001b[0m             \u001b[0;31m# fit method of arity 2 (supervised transformation)\u001b[0m\u001b[0;34m\u001b[0m\u001b[0;34m\u001b[0m\u001b[0m\n",
      "\u001b[0;32m/Users/sinabooeshaghi/software/anaconda/lib/python2.7/site-packages/sklearn/preprocessing/label.pyc\u001b[0m in \u001b[0;36mfit\u001b[0;34m(self, y)\u001b[0m\n\u001b[1;32m    294\u001b[0m         \u001b[0mself\u001b[0m \u001b[0;34m:\u001b[0m \u001b[0mreturns\u001b[0m \u001b[0man\u001b[0m \u001b[0minstance\u001b[0m \u001b[0mof\u001b[0m \u001b[0mself\u001b[0m\u001b[0;34m.\u001b[0m\u001b[0;34m\u001b[0m\u001b[0m\n\u001b[1;32m    295\u001b[0m         \"\"\"\n\u001b[0;32m--> 296\u001b[0;31m         \u001b[0mself\u001b[0m\u001b[0;34m.\u001b[0m\u001b[0my_type_\u001b[0m \u001b[0;34m=\u001b[0m \u001b[0mtype_of_target\u001b[0m\u001b[0;34m(\u001b[0m\u001b[0my\u001b[0m\u001b[0;34m)\u001b[0m\u001b[0;34m\u001b[0m\u001b[0m\n\u001b[0m\u001b[1;32m    297\u001b[0m         \u001b[0;32mif\u001b[0m \u001b[0;34m'multioutput'\u001b[0m \u001b[0;32min\u001b[0m \u001b[0mself\u001b[0m\u001b[0;34m.\u001b[0m\u001b[0my_type_\u001b[0m\u001b[0;34m:\u001b[0m\u001b[0;34m\u001b[0m\u001b[0m\n\u001b[1;32m    298\u001b[0m             raise ValueError(\"Multioutput target data is not supported with \"\n",
      "\u001b[0;32m/Users/sinabooeshaghi/software/anaconda/lib/python2.7/site-packages/sklearn/utils/multiclass.pyc\u001b[0m in \u001b[0;36mtype_of_target\u001b[0;34m(y)\u001b[0m\n\u001b[1;32m    248\u001b[0m         if (not hasattr(y[0], '__array__') and isinstance(y[0], Sequence)\n\u001b[1;32m    249\u001b[0m                 and not isinstance(y[0], string_types)):\n\u001b[0;32m--> 250\u001b[0;31m             raise ValueError('You appear to be using a legacy multi-label data'\n\u001b[0m\u001b[1;32m    251\u001b[0m                              \u001b[0;34m' representation. Sequence of sequences are no'\u001b[0m\u001b[0;34m\u001b[0m\u001b[0m\n\u001b[1;32m    252\u001b[0m                              \u001b[0;34m' longer supported; use a binary array or sparse'\u001b[0m\u001b[0;34m\u001b[0m\u001b[0m\n",
      "\u001b[0;31mValueError\u001b[0m: You appear to be using a legacy multi-label data representation. Sequence of sequences are no longer supported; use a binary array or sparse matrix instead."
     ]
    }
   ],
   "source": [
    "data['clean abstract'] = data['abstract'].apply(lambda x: \" \".join([stemmer.stem(i) for i in re.sub(\"[^a-zA-Z]\", \" \", x).split() if i not in words]).lower())\n",
    "X_train, X_test, y_train, y_test = train_test_split(data['clean abstract'], data.category, test_size=0.2)\n",
    "\n",
    "pipeline = Pipeline([('vect', TfidfVectorizer(ngram_range=(1, 2), stop_words=\"english\", sublinear_tf=True)),\n",
    "                     ('chi',  SelectKBest(chi2, k=10000)),\n",
    "                     ('clf', LinearSVC(C=1.0, penalty='l1', max_iter=3000, dual=False))])\n",
    "\n",
    "model = pipeline.fit(X_train, y_train)\n",
    "\n",
    "vectorizer = model.named_steps['vect']\n",
    "chi = model.named_steps['chi']\n",
    "clf = model.named_steps['clf']\n",
    "\n",
    "feature_names = vectorizer.get_feature_names()\n",
    "feature_names = [feature_names[i] for i in chi.get_support(indices=True)]\n",
    "feature_names = np.asarray(feature_names)\n",
    "\n",
    "target_names = ['1', '2', '3', '4', '5']\n",
    "print(\"top 10 keywords per class:\")\n",
    "for i, label in enumerate(target_names):\n",
    "    top10 = np.argsort(clf.coef_[i])[-10:]\n",
    "    print(\"%s: %s\" % (label, \" \".join(feature_names[top10])))\n",
    "\n",
    "print(\"accuracy score: \" + str(model.score(X_test, y_test)))"
   ]
  },
  {
   "cell_type": "code",
   "execution_count": 32,
   "metadata": {},
   "outputs": [],
   "source": []
  },
  {
   "cell_type": "markdown",
   "metadata": {},
   "source": [
    "## **Now lets look at some general information about the data we have**"
   ]
  },
  {
   "cell_type": "code",
   "execution_count": 3,
   "metadata": {},
   "outputs": [
    {
     "name": "stdout",
     "output_type": "stream",
     "text": [
      "CPU times: user 2 µs, sys: 1e+03 ns, total: 3 µs\n",
      "Wall time: 5.01 µs\n",
      "Number of papers :  1025\n",
      "Number of journals :  1124\n",
      "Top ten journals by number of papers : \n",
      "[(u'Pre print', 15979),\n",
      " (u'Scientific Reports', 473),\n",
      " (u'eLife', 406),\n",
      " (u'PLOS ONE', 368),\n",
      " (u'Bioinformatics', 286),\n",
      " (u'Nature Communications', 229),\n",
      " (u'PNAS', 220),\n",
      " (u'PLOS Computational Biology', 211),\n",
      " (u'Genetics', 179),\n",
      " (u'PLOS Genetics', 176)]\n"
     ]
    }
   ],
   "source": [
    "%time\n",
    "expected_number_of_papers = 20500\n",
    "number_of_papers = len(papers['papers'])\n",
    "number_of_journals = len(journal_summary)\n",
    "journal_summary_sorted = sorted(journal_summary.items(), key=operator.itemgetter(1), reverse=True) # Sorts by most represented journal\n",
    "\n",
    "print \"Number of papers : \", number_of_papers\n",
    "print \"Number of journals : \", number_of_journals\n",
    "print \"Top ten journals by number of papers : \"\n",
    "pprint.pprint(journal_summary_sorted[0:10])"
   ]
  },
  {
   "cell_type": "markdown",
   "metadata": {},
   "source": [
    "## **Working with dataframe**"
   ]
  },
  {
   "cell_type": "code",
   "execution_count": 35,
   "metadata": {},
   "outputs": [
    {
     "data": {
      "text/html": [
       "<div>\n",
       "<style>\n",
       "    .dataframe thead tr:only-child th {\n",
       "        text-align: right;\n",
       "    }\n",
       "\n",
       "    .dataframe thead th {\n",
       "        text-align: left;\n",
       "    }\n",
       "\n",
       "    .dataframe tbody tr th {\n",
       "        vertical-align: top;\n",
       "    }\n",
       "</style>\n",
       "<table border=\"1\" class=\"dataframe\">\n",
       "  <thead>\n",
       "    <tr style=\"text-align: right;\">\n",
       "      <th></th>\n",
       "      <th>abstract</th>\n",
       "      <th>authors</th>\n",
       "      <th>category</th>\n",
       "      <th>date</th>\n",
       "      <th>journal</th>\n",
       "      <th>link</th>\n",
       "      <th>text</th>\n",
       "      <th>title</th>\n",
       "      <th>twitter</th>\n",
       "    </tr>\n",
       "  </thead>\n",
       "  <tbody>\n",
       "    <tr>\n",
       "      <th>0</th>\n",
       "      <td>Since the discovery of tumour initiating cells...</td>\n",
       "      <td>[[Scott, Jacob,  H. Lee Moffitt Cancer Center ...</td>\n",
       "      <td>[Cancer Biology]</td>\n",
       "      <td>November 7, 2013</td>\n",
       "      <td>PLOS Computational Biology</td>\n",
       "      <td>http://dx.doi.org/10.1371/journal.pcbi.1003433</td>\n",
       "      <td>/Users/lynnyi/Documents/Projects/biorxiv-data-...</td>\n",
       "      <td>Microenvironmental variables must influence in...</td>\n",
       "      <td>[[ 13 Jan 2014 , 2], [ 27 Nov 2013 , 15], [ 28...</td>\n",
       "    </tr>\n",
       "    <tr>\n",
       "      <th>1</th>\n",
       "      <td>Incoherent feedforward loops represent importa...</td>\n",
       "      <td>[[Sen, Shaunak,  Indian Institute of Technolog...</td>\n",
       "      <td>[Synthetic Biology]</td>\n",
       "      <td>November 7, 2013</td>\n",
       "      <td>Pre print</td>\n",
       "      <td>None</td>\n",
       "      <td>/Users/lynnyi/Documents/Projects/biorxiv-data-...</td>\n",
       "      <td>Designing Robustness to Temperature in a Feedf...</td>\n",
       "      <td>[]</td>\n",
       "    </tr>\n",
       "    <tr>\n",
       "      <th>2</th>\n",
       "      <td>Mimulus guttatus and M. nasutus are an evoluti...</td>\n",
       "      <td>[[Brandvain, Yaniv,  Department of Evolution a...</td>\n",
       "      <td>[Evolutionary Biology]</td>\n",
       "      <td>November 7, 2013</td>\n",
       "      <td>PLOS Genetics</td>\n",
       "      <td>http://dx.doi.org/10.1371/journal.pgen.1004410</td>\n",
       "      <td>/Users/lynnyi/Documents/Projects/biorxiv-data-...</td>\n",
       "      <td>Speciation and introgression between Mimulus n...</td>\n",
       "      <td>[[ 13 Nov 2013 , 4], [ 20 May 2014 , 1], [ 12 ...</td>\n",
       "    </tr>\n",
       "    <tr>\n",
       "      <th>3</th>\n",
       "      <td>Dysregulated microRNA (miRNA) expression is a ...</td>\n",
       "      <td>[[Wan, Ying-Wooi,  Baylor College of Medicine]...</td>\n",
       "      <td>[Genomics]</td>\n",
       "      <td>November 13, 2013</td>\n",
       "      <td>PLOS ONE</td>\n",
       "      <td>http://dx.doi.org/10.1371/journal.pone.0087782</td>\n",
       "      <td>/Users/lynnyi/Documents/Projects/biorxiv-data-...</td>\n",
       "      <td>On the Reproducibility of TCGA Ovarian Cancer ...</td>\n",
       "      <td>[[ 11 Dec 2013 , 1], [ 13 Nov 2013 , 2], [ 18 ...</td>\n",
       "    </tr>\n",
       "    <tr>\n",
       "      <th>4</th>\n",
       "      <td>Hybrid zones can be valuable tools for studyin...</td>\n",
       "      <td>[[Nadeau, Nicola,  University of Cambridge], [...</td>\n",
       "      <td>[Evolutionary Biology]</td>\n",
       "      <td>November 12, 2013</td>\n",
       "      <td>Genome Research</td>\n",
       "      <td>http://dx.doi.org/10.1101/gr.169292.113</td>\n",
       "      <td>/Users/lynnyi/Documents/Projects/biorxiv-data-...</td>\n",
       "      <td>Population genomics of parallel hybrid zones i...</td>\n",
       "      <td>[[ 06 Dec 2016 , 1], [ 17 Nov 2013 , 2], [ 28 ...</td>\n",
       "    </tr>\n",
       "  </tbody>\n",
       "</table>\n",
       "</div>"
      ],
      "text/plain": [
       "                                            abstract  \\\n",
       "0  Since the discovery of tumour initiating cells...   \n",
       "1  Incoherent feedforward loops represent importa...   \n",
       "2  Mimulus guttatus and M. nasutus are an evoluti...   \n",
       "3  Dysregulated microRNA (miRNA) expression is a ...   \n",
       "4  Hybrid zones can be valuable tools for studyin...   \n",
       "\n",
       "                                             authors                category  \\\n",
       "0  [[Scott, Jacob,  H. Lee Moffitt Cancer Center ...        [Cancer Biology]   \n",
       "1  [[Sen, Shaunak,  Indian Institute of Technolog...     [Synthetic Biology]   \n",
       "2  [[Brandvain, Yaniv,  Department of Evolution a...  [Evolutionary Biology]   \n",
       "3  [[Wan, Ying-Wooi,  Baylor College of Medicine]...              [Genomics]   \n",
       "4  [[Nadeau, Nicola,  University of Cambridge], [...  [Evolutionary Biology]   \n",
       "\n",
       "                date                     journal  \\\n",
       "0   November 7, 2013  PLOS Computational Biology   \n",
       "1   November 7, 2013                   Pre print   \n",
       "2   November 7, 2013               PLOS Genetics   \n",
       "3  November 13, 2013                    PLOS ONE   \n",
       "4  November 12, 2013             Genome Research   \n",
       "\n",
       "                                             link  \\\n",
       "0  http://dx.doi.org/10.1371/journal.pcbi.1003433   \n",
       "1                                            None   \n",
       "2  http://dx.doi.org/10.1371/journal.pgen.1004410   \n",
       "3  http://dx.doi.org/10.1371/journal.pone.0087782   \n",
       "4         http://dx.doi.org/10.1101/gr.169292.113   \n",
       "\n",
       "                                                text  \\\n",
       "0  /Users/lynnyi/Documents/Projects/biorxiv-data-...   \n",
       "1  /Users/lynnyi/Documents/Projects/biorxiv-data-...   \n",
       "2  /Users/lynnyi/Documents/Projects/biorxiv-data-...   \n",
       "3  /Users/lynnyi/Documents/Projects/biorxiv-data-...   \n",
       "4  /Users/lynnyi/Documents/Projects/biorxiv-data-...   \n",
       "\n",
       "                                               title  \\\n",
       "0  Microenvironmental variables must influence in...   \n",
       "1  Designing Robustness to Temperature in a Feedf...   \n",
       "2  Speciation and introgression between Mimulus n...   \n",
       "3  On the Reproducibility of TCGA Ovarian Cancer ...   \n",
       "4  Population genomics of parallel hybrid zones i...   \n",
       "\n",
       "                                             twitter  \n",
       "0  [[ 13 Jan 2014 , 2], [ 27 Nov 2013 , 15], [ 28...  \n",
       "1                                                 []  \n",
       "2  [[ 13 Nov 2013 , 4], [ 20 May 2014 , 1], [ 12 ...  \n",
       "3  [[ 11 Dec 2013 , 1], [ 13 Nov 2013 , 2], [ 18 ...  \n",
       "4  [[ 06 Dec 2016 , 1], [ 17 Nov 2013 , 2], [ 28 ...  "
      ]
     },
     "execution_count": 35,
     "metadata": {},
     "output_type": "execute_result"
    }
   ],
   "source": [
    "data.head()"
   ]
  },
  {
   "cell_type": "markdown",
   "metadata": {},
   "source": [
    "### **Making twitter list** "
   ]
  },
  {
   "cell_type": "code",
   "execution_count": 15,
   "metadata": {},
   "outputs": [],
   "source": [
    "dt = []\n",
    "b = []\n",
    "for paper in data['twitter']:\n",
    "    b = []\n",
    "    for dates in paper:\n",
    "        b.append(dates[0])\n",
    "    dt.append(b)\n",
    "    \n",
    "rt = []\n",
    "b = []\n",
    "for paper in data['twitter']:\n",
    "    b = []\n",
    "    for dates in paper:\n",
    "        b.append(dates[-1])\n",
    "    rt.append(b)"
   ]
  },
  {
   "cell_type": "code",
   "execution_count": 16,
   "metadata": {},
   "outputs": [],
   "source": [
    "data['rt'] = rt\n",
    "data['dt'] = dt"
   ]
  },
  {
   "cell_type": "code",
   "execution_count": 17,
   "metadata": {},
   "outputs": [],
   "source": [
    "for date_ind in range(len(data['dt'])):\n",
    "    if len(data['dt'][date_ind])>0:\n",
    "        data['dt'][date_ind] = pd.to_datetime(data['dt'][date_ind],infer_datetime_format=True)"
   ]
  },
  {
   "cell_type": "code",
   "execution_count": 18,
   "metadata": {},
   "outputs": [
    {
     "data": {
      "text/plain": [
       "DatetimeIndex(['2014-01-13', '2013-11-27', '2013-11-28', '2013-11-22',\n",
       "               '2013-12-01'],\n",
       "              dtype='datetime64[ns]', freq=None)"
      ]
     },
     "execution_count": 18,
     "metadata": {},
     "output_type": "execute_result"
    }
   ],
   "source": [
    "data['dt'][0]"
   ]
  },
  {
   "cell_type": "code",
   "execution_count": 40,
   "metadata": {},
   "outputs": [
    {
     "name": "stdout",
     "output_type": "stream",
     "text": [
      "[2, 15, 1, 1, 2]\n"
     ]
    },
    {
     "data": {
      "text/html": [
       "\n",
       "<div class=\"bk-root\">\n",
       "    <div class=\"bk-plotdiv\" id=\"569c4179-039f-4820-806d-9c0feade0112\"></div>\n",
       "</div>"
      ]
     },
     "metadata": {},
     "output_type": "display_data"
    },
    {
     "data": {
      "application/javascript": [
       "(function(root) {\n",
       "  function embed_document(root) {\n",
       "    \n",
       "  var docs_json = {\"76e00c90-8fd2-45b1-a673-07ff6a6ae2cf\":{\"roots\":{\"references\":[{\"attributes\":{},\"id\":\"c326b16d-a1a7-44fc-89ae-7e3b2f1fa349\",\"type\":\"BasicTicker\"},{\"attributes\":{\"active_drag\":\"auto\",\"active_inspect\":\"auto\",\"active_scroll\":\"auto\",\"active_tap\":\"auto\",\"tools\":[{\"id\":\"59ccde19-d967-4a02-8f83-6dacc23b190d\",\"type\":\"PanTool\"},{\"id\":\"11574127-23af-4e7a-b8b9-204f7be8cb97\",\"type\":\"WheelZoomTool\"},{\"id\":\"5dbb4004-7b28-4876-8292-0bbbc7868311\",\"type\":\"BoxZoomTool\"},{\"id\":\"16b8c94d-70aa-4d13-b3b7-cbabe423987a\",\"type\":\"SaveTool\"},{\"id\":\"6430f34d-4211-405e-ad48-f6c145e01242\",\"type\":\"ResetTool\"},{\"id\":\"60d7693e-2873-40bd-a5c1-12ea8a8385f8\",\"type\":\"HelpTool\"}]},\"id\":\"02f29061-0883-472e-83d7-abcd7372203f\",\"type\":\"Toolbar\"},{\"attributes\":{\"callback\":null},\"id\":\"97447df1-aa73-478b-81f4-4d50c905ba28\",\"type\":\"DataRange1d\"},{\"attributes\":{},\"id\":\"b03f77d3-6913-4302-a506-959c6309a144\",\"type\":\"BasicTicker\"},{\"attributes\":{\"plot\":{\"id\":\"7403e57b-d310-4955-a604-c3d28dcf9cdb\",\"subtype\":\"Figure\",\"type\":\"Plot\"},\"ticker\":{\"id\":\"b03f77d3-6913-4302-a506-959c6309a144\",\"type\":\"BasicTicker\"}},\"id\":\"0c7e033f-0c3d-4bf6-bb89-6f3101978e69\",\"type\":\"Grid\"},{\"attributes\":{},\"id\":\"d8d097ae-1a44-42e7-8f40-2cc11b7abfda\",\"type\":\"UnionRenderers\"},{\"attributes\":{\"below\":[{\"id\":\"4e1400bb-1d1b-4833-9a57-bc709a09b240\",\"type\":\"LinearAxis\"}],\"left\":[{\"id\":\"af93c51b-5b81-42d3-a5cf-f2ed93f857e4\",\"type\":\"LinearAxis\"}],\"plot_height\":500,\"plot_width\":1000,\"renderers\":[{\"id\":\"4e1400bb-1d1b-4833-9a57-bc709a09b240\",\"type\":\"LinearAxis\"},{\"id\":\"0c7e033f-0c3d-4bf6-bb89-6f3101978e69\",\"type\":\"Grid\"},{\"id\":\"af93c51b-5b81-42d3-a5cf-f2ed93f857e4\",\"type\":\"LinearAxis\"},{\"id\":\"df2d038b-490e-45e1-aec0-b67afaea1a13\",\"type\":\"Grid\"},{\"id\":\"45cedfdd-2e56-41ab-a1ee-fea2ff2d09c7\",\"type\":\"BoxAnnotation\"},{\"id\":\"fdd8e257-aa46-48d2-a71d-0764598ed0b5\",\"type\":\"GlyphRenderer\"},{\"id\":\"ed01b216-70e1-4776-8ca9-ab3aa232a008\",\"type\":\"GlyphRenderer\"},{\"id\":\"d10dcabd-d1d2-408d-8954-4fb5eb481434\",\"type\":\"GlyphRenderer\"},{\"id\":\"7dad22bc-6ee3-43c7-b9b5-ee015476b36e\",\"type\":\"GlyphRenderer\"}],\"title\":{\"id\":\"6239d4b0-3bfb-4738-90a2-4a1bb98f7c01\",\"type\":\"Title\"},\"toolbar\":{\"id\":\"02f29061-0883-472e-83d7-abcd7372203f\",\"type\":\"Toolbar\"},\"x_range\":{\"id\":\"b33a75ec-d868-4adc-a337-70c2b50258fe\",\"type\":\"DataRange1d\"},\"x_scale\":{\"id\":\"1d6ea3d0-1271-4967-8cd0-3cebca157cb7\",\"type\":\"LinearScale\"},\"y_range\":{\"id\":\"97447df1-aa73-478b-81f4-4d50c905ba28\",\"type\":\"DataRange1d\"},\"y_scale\":{\"id\":\"be1344c8-9edd-4d91-a876-7fa53d8b2b76\",\"type\":\"LinearScale\"}},\"id\":\"7403e57b-d310-4955-a604-c3d28dcf9cdb\",\"subtype\":\"Figure\",\"type\":\"Plot\"},{\"attributes\":{\"source\":{\"id\":\"5c314883-dfb9-48f1-94c9-9c94263207fa\",\"type\":\"ColumnDataSource\"}},\"id\":\"4ada50eb-88b0-4882-b524-72dbf14da996\",\"type\":\"CDSView\"},{\"attributes\":{},\"id\":\"ceb6985f-f8a1-4eda-9489-e7d4fad25f3c\",\"type\":\"BasicTickFormatter\"},{\"attributes\":{\"bottom_units\":\"screen\",\"fill_alpha\":{\"value\":0.5},\"fill_color\":{\"value\":\"lightgrey\"},\"left_units\":\"screen\",\"level\":\"overlay\",\"line_alpha\":{\"value\":1.0},\"line_color\":{\"value\":\"black\"},\"line_dash\":[4,4],\"line_width\":{\"value\":2},\"plot\":null,\"render_mode\":\"css\",\"right_units\":\"screen\",\"top_units\":\"screen\"},\"id\":\"45cedfdd-2e56-41ab-a1ee-fea2ff2d09c7\",\"type\":\"BoxAnnotation\"},{\"attributes\":{\"data_source\":{\"id\":\"f3916b28-47c4-4aa9-ba61-2e2a7175c6b1\",\"type\":\"ColumnDataSource\"},\"glyph\":{\"id\":\"63297cae-a843-49af-93b4-f19932a5d7d4\",\"type\":\"Circle\"},\"hover_glyph\":null,\"muted_glyph\":null,\"nonselection_glyph\":{\"id\":\"84dc61c3-cc8b-4d81-9232-c1fbbcc4acb8\",\"type\":\"Circle\"},\"selection_glyph\":null,\"view\":{\"id\":\"174aef6c-44f7-4af5-8717-5a7c1cd6a6ef\",\"type\":\"CDSView\"}},\"id\":\"7dad22bc-6ee3-43c7-b9b5-ee015476b36e\",\"type\":\"GlyphRenderer\"},{\"attributes\":{\"callback\":null},\"id\":\"b33a75ec-d868-4adc-a337-70c2b50258fe\",\"type\":\"DataRange1d\"},{\"attributes\":{\"fill_alpha\":{\"value\":0.5},\"fill_color\":{\"value\":\"#1f77b4\"},\"line_alpha\":{\"value\":0.5},\"line_color\":{\"value\":\"#1f77b4\"},\"size\":{\"units\":\"screen\",\"value\":7},\"x\":{\"field\":\"x\"},\"y\":{\"field\":\"y\"}},\"id\":\"8210ec39-c795-4724-a611-e276ea5135e0\",\"type\":\"Circle\"},{\"attributes\":{\"fill_alpha\":{\"value\":0.5},\"fill_color\":{\"value\":\"#1f77b4\"},\"line_alpha\":{\"value\":0.5},\"line_color\":{\"value\":\"#1f77b4\"},\"size\":{\"units\":\"screen\",\"value\":7},\"x\":{\"field\":\"x\"},\"y\":{\"field\":\"y\"}},\"id\":\"63297cae-a843-49af-93b4-f19932a5d7d4\",\"type\":\"Circle\"},{\"attributes\":{\"overlay\":{\"id\":\"45cedfdd-2e56-41ab-a1ee-fea2ff2d09c7\",\"type\":\"BoxAnnotation\"}},\"id\":\"5dbb4004-7b28-4876-8292-0bbbc7868311\",\"type\":\"BoxZoomTool\"},{\"attributes\":{\"callback\":null,\"data\":{\"x\":{\"__ndarray__\":\"AACAHuwkdEIAAIDXbmF0QgAAwLiZJHRCAABAhD4ldEI=\",\"dtype\":\"float64\",\"shape\":[4]},\"y\":[4,1,1,1]},\"selected\":{\"id\":\"1dca0919-95cf-4276-b4f2-301e1d4a315a\",\"type\":\"Selection\"},\"selection_policy\":{\"id\":\"d8d097ae-1a44-42e7-8f40-2cc11b7abfda\",\"type\":\"UnionRenderers\"}},\"id\":\"5c314883-dfb9-48f1-94c9-9c94263207fa\",\"type\":\"ColumnDataSource\"},{\"attributes\":{},\"id\":\"40050e3b-9734-41e5-a9ff-30f7e0ac3006\",\"type\":\"Selection\"},{\"attributes\":{},\"id\":\"e65b7b44-3bce-4a94-84b8-5147a7d93b0a\",\"type\":\"UnionRenderers\"},{\"attributes\":{\"axis_label\":\"Number of retweets\",\"formatter\":{\"id\":\"cd8b5874-feef-48d8-9e48-1df03d1d6f1a\",\"type\":\"BasicTickFormatter\"},\"plot\":{\"id\":\"7403e57b-d310-4955-a604-c3d28dcf9cdb\",\"subtype\":\"Figure\",\"type\":\"Plot\"},\"ticker\":{\"id\":\"b03f77d3-6913-4302-a506-959c6309a144\",\"type\":\"BasicTicker\"}},\"id\":\"4e1400bb-1d1b-4833-9a57-bc709a09b240\",\"type\":\"LinearAxis\"},{\"attributes\":{},\"id\":\"86140b07-3e25-4dab-9004-3c57b2bb97ea\",\"type\":\"UnionRenderers\"},{\"attributes\":{},\"id\":\"1dca0919-95cf-4276-b4f2-301e1d4a315a\",\"type\":\"Selection\"},{\"attributes\":{\"callback\":null,\"data\":{\"x\":{\"__ndarray__\":\"AABAXY44dEIAAACvbSl0QgAAwBTAKXRCAABAstEndEIAAABGtyp0Qg==\",\"dtype\":\"float64\",\"shape\":[5]},\"y\":[2,15,1,1,2]},\"selected\":{\"id\":\"40050e3b-9734-41e5-a9ff-30f7e0ac3006\",\"type\":\"Selection\"},\"selection_policy\":{\"id\":\"86140b07-3e25-4dab-9004-3c57b2bb97ea\",\"type\":\"UnionRenderers\"}},\"id\":\"0e18c3d5-5f09-4044-8ce4-49f578110c32\",\"type\":\"ColumnDataSource\"},{\"attributes\":{},\"id\":\"be1344c8-9edd-4d91-a876-7fa53d8b2b76\",\"type\":\"LinearScale\"},{\"attributes\":{\"fill_alpha\":{\"value\":0.1},\"fill_color\":{\"value\":\"#1f77b4\"},\"line_alpha\":{\"value\":0.1},\"line_color\":{\"value\":\"#1f77b4\"},\"size\":{\"units\":\"screen\",\"value\":7},\"x\":{\"field\":\"x\"},\"y\":{\"field\":\"y\"}},\"id\":\"88c82f21-d008-4e78-8877-fdf3edac0081\",\"type\":\"Circle\"},{\"attributes\":{\"source\":{\"id\":\"0e18c3d5-5f09-4044-8ce4-49f578110c32\",\"type\":\"ColumnDataSource\"}},\"id\":\"7ee70be0-2a76-466d-87bf-aed58962899c\",\"type\":\"CDSView\"},{\"attributes\":{},\"id\":\"16b8c94d-70aa-4d13-b3b7-cbabe423987a\",\"type\":\"SaveTool\"},{\"attributes\":{\"source\":{\"id\":\"5211974e-da73-4997-8764-27ec628b6b79\",\"type\":\"ColumnDataSource\"}},\"id\":\"5a96de18-6e1b-4405-b9f5-16d57cd4c736\",\"type\":\"CDSView\"},{\"attributes\":{},\"id\":\"80535cfb-96de-4610-9449-7fa6f5e4d4c6\",\"type\":\"Selection\"},{\"attributes\":{\"plot\":null,\"text\":\"Number of retweets vs days elapsed\"},\"id\":\"6239d4b0-3bfb-4738-90a2-4a1bb98f7c01\",\"type\":\"Title\"},{\"attributes\":{\"fill_alpha\":{\"value\":0.1},\"fill_color\":{\"value\":\"#1f77b4\"},\"line_alpha\":{\"value\":0.1},\"line_color\":{\"value\":\"#1f77b4\"},\"size\":{\"units\":\"screen\",\"value\":7},\"x\":{\"field\":\"x\"},\"y\":{\"field\":\"y\"}},\"id\":\"84dc61c3-cc8b-4d81-9232-c1fbbcc4acb8\",\"type\":\"Circle\"},{\"attributes\":{\"data_source\":{\"id\":\"5c314883-dfb9-48f1-94c9-9c94263207fa\",\"type\":\"ColumnDataSource\"},\"glyph\":{\"id\":\"8210ec39-c795-4724-a611-e276ea5135e0\",\"type\":\"Circle\"},\"hover_glyph\":null,\"muted_glyph\":null,\"nonselection_glyph\":{\"id\":\"d25f61be-42b2-4452-9a68-580c6089edd7\",\"type\":\"Circle\"},\"selection_glyph\":null,\"view\":{\"id\":\"4ada50eb-88b0-4882-b524-72dbf14da996\",\"type\":\"CDSView\"}},\"id\":\"d10dcabd-d1d2-408d-8954-4fb5eb481434\",\"type\":\"GlyphRenderer\"},{\"attributes\":{},\"id\":\"cd8b5874-feef-48d8-9e48-1df03d1d6f1a\",\"type\":\"BasicTickFormatter\"},{\"attributes\":{\"fill_alpha\":{\"value\":0.5},\"fill_color\":{\"value\":\"#1f77b4\"},\"line_alpha\":{\"value\":0.5},\"line_color\":{\"value\":\"#1f77b4\"},\"size\":{\"units\":\"screen\",\"value\":7},\"x\":{\"field\":\"x\"},\"y\":{\"field\":\"y\"}},\"id\":\"5b78e560-edcd-426a-9cc4-97ce0c7e230c\",\"type\":\"Circle\"},{\"attributes\":{},\"id\":\"1d6ea3d0-1271-4967-8cd0-3cebca157cb7\",\"type\":\"LinearScale\"},{\"attributes\":{\"fill_alpha\":{\"value\":0.1},\"fill_color\":{\"value\":\"#1f77b4\"},\"line_alpha\":{\"value\":0.1},\"line_color\":{\"value\":\"#1f77b4\"},\"size\":{\"units\":\"screen\",\"value\":7},\"x\":{\"field\":\"x\"},\"y\":{\"field\":\"y\"}},\"id\":\"ebb1e753-15fa-4866-a2f8-ad14df73c6e1\",\"type\":\"Circle\"},{\"attributes\":{},\"id\":\"b6002070-8937-4b25-ac75-92b48ac8faa9\",\"type\":\"Selection\"},{\"attributes\":{\"data_source\":{\"id\":\"0e18c3d5-5f09-4044-8ce4-49f578110c32\",\"type\":\"ColumnDataSource\"},\"glyph\":{\"id\":\"a9a8694e-5ec8-456c-997c-6a8547002bef\",\"type\":\"Circle\"},\"hover_glyph\":null,\"muted_glyph\":null,\"nonselection_glyph\":{\"id\":\"ebb1e753-15fa-4866-a2f8-ad14df73c6e1\",\"type\":\"Circle\"},\"selection_glyph\":null,\"view\":{\"id\":\"7ee70be0-2a76-466d-87bf-aed58962899c\",\"type\":\"CDSView\"}},\"id\":\"fdd8e257-aa46-48d2-a71d-0764598ed0b5\",\"type\":\"GlyphRenderer\"},{\"attributes\":{\"dimension\":1,\"plot\":{\"id\":\"7403e57b-d310-4955-a604-c3d28dcf9cdb\",\"subtype\":\"Figure\",\"type\":\"Plot\"},\"ticker\":{\"id\":\"c326b16d-a1a7-44fc-89ae-7e3b2f1fa349\",\"type\":\"BasicTicker\"}},\"id\":\"df2d038b-490e-45e1-aec0-b67afaea1a13\",\"type\":\"Grid\"},{\"attributes\":{\"source\":{\"id\":\"f3916b28-47c4-4aa9-ba61-2e2a7175c6b1\",\"type\":\"ColumnDataSource\"}},\"id\":\"174aef6c-44f7-4af5-8717-5a7c1cd6a6ef\",\"type\":\"CDSView\"},{\"attributes\":{\"fill_alpha\":{\"value\":0.1},\"fill_color\":{\"value\":\"#1f77b4\"},\"line_alpha\":{\"value\":0.1},\"line_color\":{\"value\":\"#1f77b4\"},\"size\":{\"units\":\"screen\",\"value\":7},\"x\":{\"field\":\"x\"},\"y\":{\"field\":\"y\"}},\"id\":\"d25f61be-42b2-4452-9a68-580c6089edd7\",\"type\":\"Circle\"},{\"attributes\":{\"callback\":null,\"data\":{\"x\":[],\"y\":[]},\"selected\":{\"id\":\"80535cfb-96de-4610-9449-7fa6f5e4d4c6\",\"type\":\"Selection\"},\"selection_policy\":{\"id\":\"3d316cb4-43b5-4d2c-be11-862f5142c95f\",\"type\":\"UnionRenderers\"}},\"id\":\"5211974e-da73-4997-8764-27ec628b6b79\",\"type\":\"ColumnDataSource\"},{\"attributes\":{},\"id\":\"6430f34d-4211-405e-ad48-f6c145e01242\",\"type\":\"ResetTool\"},{\"attributes\":{},\"id\":\"3d316cb4-43b5-4d2c-be11-862f5142c95f\",\"type\":\"UnionRenderers\"},{\"attributes\":{},\"id\":\"60d7693e-2873-40bd-a5c1-12ea8a8385f8\",\"type\":\"HelpTool\"},{\"attributes\":{},\"id\":\"11574127-23af-4e7a-b8b9-204f7be8cb97\",\"type\":\"WheelZoomTool\"},{\"attributes\":{\"axis_label\":\"Days elapsed\",\"formatter\":{\"id\":\"ceb6985f-f8a1-4eda-9489-e7d4fad25f3c\",\"type\":\"BasicTickFormatter\"},\"plot\":{\"id\":\"7403e57b-d310-4955-a604-c3d28dcf9cdb\",\"subtype\":\"Figure\",\"type\":\"Plot\"},\"ticker\":{\"id\":\"c326b16d-a1a7-44fc-89ae-7e3b2f1fa349\",\"type\":\"BasicTicker\"}},\"id\":\"af93c51b-5b81-42d3-a5cf-f2ed93f857e4\",\"type\":\"LinearAxis\"},{\"attributes\":{\"fill_alpha\":{\"value\":0.5},\"fill_color\":{\"value\":\"#1f77b4\"},\"line_alpha\":{\"value\":0.5},\"line_color\":{\"value\":\"#1f77b4\"},\"size\":{\"units\":\"screen\",\"value\":7},\"x\":{\"field\":\"x\"},\"y\":{\"field\":\"y\"}},\"id\":\"a9a8694e-5ec8-456c-997c-6a8547002bef\",\"type\":\"Circle\"},{\"attributes\":{},\"id\":\"59ccde19-d967-4a02-8f83-6dacc23b190d\",\"type\":\"PanTool\"},{\"attributes\":{\"data_source\":{\"id\":\"5211974e-da73-4997-8764-27ec628b6b79\",\"type\":\"ColumnDataSource\"},\"glyph\":{\"id\":\"5b78e560-edcd-426a-9cc4-97ce0c7e230c\",\"type\":\"Circle\"},\"hover_glyph\":null,\"muted_glyph\":null,\"nonselection_glyph\":{\"id\":\"88c82f21-d008-4e78-8877-fdf3edac0081\",\"type\":\"Circle\"},\"selection_glyph\":null,\"view\":{\"id\":\"5a96de18-6e1b-4405-b9f5-16d57cd4c736\",\"type\":\"CDSView\"}},\"id\":\"ed01b216-70e1-4776-8ca9-ab3aa232a008\",\"type\":\"GlyphRenderer\"},{\"attributes\":{\"callback\":null,\"data\":{\"x\":{\"__ndarray__\":\"AACAP+8tdEIAAIAe7CR0QgAAwAcwMHRC\",\"dtype\":\"float64\",\"shape\":[3]},\"y\":[1,2,2]},\"selected\":{\"id\":\"b6002070-8937-4b25-ac75-92b48ac8faa9\",\"type\":\"Selection\"},\"selection_policy\":{\"id\":\"e65b7b44-3bce-4a94-84b8-5147a7d93b0a\",\"type\":\"UnionRenderers\"}},\"id\":\"f3916b28-47c4-4aa9-ba61-2e2a7175c6b1\",\"type\":\"ColumnDataSource\"}],\"root_ids\":[\"7403e57b-d310-4955-a604-c3d28dcf9cdb\"]},\"title\":\"Bokeh Application\",\"version\":\"0.12.16\"}};\n",
       "  var render_items = [{\"docid\":\"76e00c90-8fd2-45b1-a673-07ff6a6ae2cf\",\"elementid\":\"569c4179-039f-4820-806d-9c0feade0112\",\"modelid\":\"7403e57b-d310-4955-a604-c3d28dcf9cdb\"}];\n",
       "  root.Bokeh.embed.embed_items_notebook(docs_json, render_items);\n",
       "\n",
       "  }\n",
       "  if (root.Bokeh !== undefined) {\n",
       "    embed_document(root);\n",
       "  } else {\n",
       "    var attempts = 0;\n",
       "    var timer = setInterval(function(root) {\n",
       "      if (root.Bokeh !== undefined) {\n",
       "        embed_document(root);\n",
       "        clearInterval(timer);\n",
       "      }\n",
       "      attempts++;\n",
       "      if (attempts > 100) {\n",
       "        console.log(\"Bokeh: ERROR: Unable to run BokehJS code because BokehJS library is missing\")\n",
       "        clearInterval(timer);\n",
       "      }\n",
       "    }, 10, root)\n",
       "  }\n",
       "})(window);"
      ],
      "application/vnd.bokehjs_exec.v0+json": ""
     },
     "metadata": {
      "application/vnd.bokehjs_exec.v0+json": {
       "id": "7403e57b-d310-4955-a604-c3d28dcf9cdb"
      }
     },
     "output_type": "display_data"
    }
   ],
   "source": [
    "p1 = figure(width=1000, height=500, title=\"Number of retweets vs days elapsed\")\n",
    "p1.xaxis.axis_label = 'Number of retweets'\n",
    "p1.yaxis.axis_label = 'Days elapsed'\n",
    "print data['rt'][0]\n",
    "\n",
    "p1.circle(data['dt'][0], data['rt'][0], size=7, alpha=0.5, legend='')\n",
    "p1.circle(data['dt'][1], data['rt'][1], size=7, alpha=0.5, legend='')\n",
    "p1.circle(data['dt'][2], data['rt'][2], size=7, alpha=0.5, legend='')\n",
    "p1.circle(data['dt'][3], data['rt'][3], size=7, alpha=0.5, legend='')\n",
    "show(p1)"
   ]
  },
  {
   "cell_type": "markdown",
   "metadata": {},
   "source": [
    "## **Iterate through all of the data in papers to get richer information**"
   ]
  },
  {
   "cell_type": "code",
   "execution_count": 5,
   "metadata": {},
   "outputs": [
    {
     "name": "stdout",
     "output_type": "stream",
     "text": [
      "CPU times: user 2 µs, sys: 0 ns, total: 2 µs\n",
      "Wall time: 4.05 µs\n"
     ]
    }
   ],
   "source": [
    "%time\n",
    "global_author_list = []\n",
    "global_date_dict = {}\n",
    "author_network = []\n",
    "for paper_num in range(len(papers['papers'])):\n",
    "    abstract = papers['papers'][paper_num]['abstract']\n",
    "    authors  = papers['papers'][paper_num]['authors']\n",
    "    date     = papers['papers'][paper_num]['date']\n",
    "    journal  = papers['papers'][paper_num]['journal']\n",
    "    link     = papers['papers'][paper_num]['link']\n",
    "    text     = papers['papers'][paper_num]['text']\n",
    "    title    = papers['papers'][paper_num]['title']\n",
    "    twitter  = papers['papers'][paper_num]['twitter']\n",
    "    \n",
    "    author_network.append(authors)\n",
    "    # Getting a list of all of the authors\n",
    "    for dude in authors:\n",
    "        global_author_list.append(dude)\n",
    "    \n",
    "    # Getting a list of all of the dates the papers were posted\n",
    "    if date not in global_date_dict:\n",
    "        global_date_dict[date] = 1\n",
    "    else:\n",
    "        global_date_dict[date] += 1"
   ]
  },
  {
   "cell_type": "code",
   "execution_count": 6,
   "metadata": {},
   "outputs": [
    {
     "data": {
      "text/plain": [
       "{u'abstract': u'Since the discovery of tumour initiating cells (TICs) in solid tumours, studies focussing on their role in cancer initiation and progression have abounded.  The biological interrogation of these cells continues to yield volumes of information on their pro-tumourigenic behaviour, but actionable generalised conclusions have been scarce. Further, new information suggesting a dependence of tumour composition and growth on the microenvironment has yet to be studied theoretically. To address this point, we created a hybrid, discrete/continuous computational cellular automaton model of a generalised stem-cell driven tissue with a simple microenvironment.  Using the model we explored the phenotypic traits inherent to the tumour initiating cells and the effect of the microenvironment on tissue growth. We identify the regions in phenotype parameter space where TICs are able to cause a disruption in homeostasis, leading to tissue overgrowth and tumour maintenance. As our parameters and model are non-specific, they could apply to any tissue TIC and do not assume specific genetic mutations.  Targeting these phenotypic traits could represent a generalizable therapeutic strategy across cancer types.  Further, we find that the microenvironmental variable does not strongly effect the outcomes, suggesting a need for direct feedback from the microenvironment onto stem-cell behaviour in future modelling endeavours.',\n",
       " u'authors': [[u'Scott',\n",
       "   u'Jacob',\n",
       "   u' H. Lee Moffitt Cancer Center and Research Institute and University of Oxford'],\n",
       "  [u'Hjelmeland', u'Anita', u' University of Alabama at Birmingham'],\n",
       "  [u'Chinnaiyan',\n",
       "   u'Prakash',\n",
       "   u' H. Lee Moffitt Cancer Center and Research Institute'],\n",
       "  [u'Anderson',\n",
       "   u'Alexander R A',\n",
       "   u' H. Lee Moffitt Cancer Center and Research Institute'],\n",
       "  [u'Basanta',\n",
       "   u'David',\n",
       "   u' H. Lee Moffitt Cancer Center and Research Institute']],\n",
       " u'category': [u'Cancer Biology'],\n",
       " u'date': u'November 7, 2013',\n",
       " u'journal': u'PLOS Computational Biology',\n",
       " u'link': u'http://dx.doi.org/10.1371/journal.pcbi.1003433',\n",
       " u'text': u'/Users/lynnyi/Documents/Projects/biorxiv-data-mining/downloads/PLOS Computational Biology/PLOS Computational Biology1.pdf',\n",
       " u'title': u'Microenvironmental variables must influence intrinsic phenotypic parameters of cancer stem cells to affect tumourigenicity',\n",
       " u'twitter': [[u' 13 Jan 2014 ', 2],\n",
       "  [u' 27 Nov 2013 ', 15],\n",
       "  [u' 28 Nov 2013 ', 1],\n",
       "  [u' 22 Nov 2013 ', 1],\n",
       "  [u' 01 Dec 2013 ', 2]]}"
      ]
     },
     "execution_count": 6,
     "metadata": {},
     "output_type": "execute_result"
    }
   ],
   "source": [
    "papers['papers'][0]"
   ]
  },
  {
   "cell_type": "markdown",
   "metadata": {},
   "source": [
    "### Clean up the author network textual data using fuzzy string matching (This takes too long right now.. need to speed up)"
   ]
  },
  {
   "cell_type": "code",
   "execution_count": 79,
   "metadata": {},
   "outputs": [],
   "source": [
    "author_list = []\n",
    "for paper in author_network:\n",
    "    for dude in paper:\n",
    "        if dude not in author_list:\n",
    "            wrt = dude[0] + ', ' + dude[1] + ', ' + dude[2][1:]\n",
    "            author_list.append(wrt)"
   ]
  },
  {
   "cell_type": "code",
   "execution_count": 80,
   "metadata": {},
   "outputs": [
    {
     "ename": "NameError",
     "evalue": "name 'compare' is not defined",
     "output_type": "error",
     "traceback": [
      "\u001b[0;31m---------------------------------------------------------------------------\u001b[0m",
      "\u001b[0;31mNameError\u001b[0m                                 Traceback (most recent call last)",
      "\u001b[0;32m<ipython-input-80-2738a8ec6c0c>\u001b[0m in \u001b[0;36m<module>\u001b[0;34m()\u001b[0m\n\u001b[0;32m----> 1\u001b[0;31m \u001b[0;32mprint\u001b[0m \u001b[0mcompare\u001b[0m\u001b[0;34m(\u001b[0m\u001b[0;34m'Sina Booeshaghi'\u001b[0m\u001b[0;34m,\u001b[0m \u001b[0;34m'Sina B. Booeshaghi'\u001b[0m\u001b[0;34m)\u001b[0m\u001b[0;34m\u001b[0m\u001b[0m\n\u001b[0m\u001b[1;32m      2\u001b[0m \u001b[0mfuzz\u001b[0m\u001b[0;34m.\u001b[0m\u001b[0mratio\u001b[0m\u001b[0;34m(\u001b[0m\u001b[0;34m'Sina Booeshaghi'\u001b[0m\u001b[0;34m,\u001b[0m \u001b[0;34m'Sina B. Booeshaghi'\u001b[0m\u001b[0;34m)\u001b[0m\u001b[0;34m\u001b[0m\u001b[0m\n",
      "\u001b[0;31mNameError\u001b[0m: name 'compare' is not defined"
     ]
    }
   ],
   "source": [
    "print compare('Sina Booeshaghi', 'Sina B. Booeshaghi')\n",
    "fuzz.ratio('Sina Booeshaghi', 'Sina B. Booeshaghi')"
   ]
  },
  {
   "cell_type": "code",
   "execution_count": null,
   "metadata": {},
   "outputs": [],
   "source": [
    "#%%time\n",
    "#to_remove = []\n",
    "#for i in range(len(author_list)):\n",
    "#    compare = []\n",
    "#    for j in author_list[i+1:]:\n",
    "#        pwise_comp = fuzz.partial_ratio(author_list[i], j)\n",
    "#        if pwise_comp > 70:\n",
    "#            to_remove.append(j)"
   ]
  },
  {
   "cell_type": "markdown",
   "metadata": {},
   "source": [
    "### **Generate author id and lookup table**"
   ]
  },
  {
   "cell_type": "code",
   "execution_count": 8,
   "metadata": {},
   "outputs": [],
   "source": [
    "# Here we generate a lookup table for authors and associated id's\n",
    "# For every author there is a uid associated with them\n",
    "def gen_id_2_auth(author_network):\n",
    "    author_lookup = {}\n",
    "    uid_list = []\n",
    "\n",
    "    for paper in author_network:\n",
    "        for author in paper:\n",
    "            # we make a unique ID hash that can be looked up\n",
    "            # here I fix the stupid space left in front of affiliation\n",
    "            author = [author[0], author[1], author[2][1:]]\n",
    "            string_to_hash = author[0] + ', ' + author[1] + ', ' + author[2]\n",
    "            uid = int(str(hash(string_to_hash))[1:15])\n",
    "            aff = author[2]\n",
    "            auth_name = author[0] + ', ' + author[1]\n",
    "\n",
    "            # if we have added the author to the dict, we increment the number of papers they have published\n",
    "            if uid in uid_list:\n",
    "                author_lookup[uid]['count'] += 1\n",
    "\n",
    "            else:\n",
    "                to_add = {\n",
    "                    'name': auth_name, 'count': 1, 'aff': aff\n",
    "                }\n",
    "                author_lookup[uid]= to_add\n",
    "\n",
    "            uid_list.append(uid)\n",
    "    return author_lookup\n",
    "\n",
    "lookup_table = gen_id_2_auth(author_network)"
   ]
  },
  {
   "cell_type": "code",
   "execution_count": 9,
   "metadata": {},
   "outputs": [],
   "source": [
    "# Given an UID and a lookup table, we return the author and their affiliation\n",
    "def id_2_auth(uid, lookup_table):\n",
    "    return [lookup_table[uid]['name'], lookup_table[uid]['aff']]"
   ]
  },
  {
   "cell_type": "code",
   "execution_count": 10,
   "metadata": {},
   "outputs": [],
   "source": [
    "# Given the author which is [lname, fname, aff], return the UID\n",
    "def auth_2_id(author):\n",
    "    string_to_hash = author[0] + ', ' + author[1]\n",
    "    uid = int(str(hash(string_to_hash))[1:15])\n",
    "    return uid"
   ]
  },
  {
   "cell_type": "code",
   "execution_count": 11,
   "metadata": {},
   "outputs": [],
   "source": [
    "# Returns a dictionary of all of the affiliations and the people who published under that affiliation\n",
    "def affiliation_info(author_network):\n",
    "    affiliations = {}\n",
    "    added_list = []\n",
    "    for paper in author_network:\n",
    "        for author in paper:\n",
    "            author = [author[0], author[1], author[2][1:]]\n",
    "            auth_aff = author[2]\n",
    "            auth_name = author[0] + ', ' + author[1]\n",
    "            to_id = [auth_name, auth_aff]\n",
    "            auth_id = auth_2_id(to_id)\n",
    "            if auth_aff == '':\n",
    "                # DOI NOT FOUND, just skip\n",
    "                pass\n",
    "            else:\n",
    "                if auth_aff not in affiliations:\n",
    "                    affiliations[auth_aff] = []\n",
    "\n",
    "                if auth_id not in added_list:\n",
    "                    affiliations[auth_aff].append(auth_id)\n",
    "                    added_list.append(auth_id)\n",
    "    return affiliations\n",
    "                \n",
    "affiliations = affiliation_info(author_network)"
   ]
  },
  {
   "cell_type": "code",
   "execution_count": 12,
   "metadata": {},
   "outputs": [],
   "source": [
    "# Testing the auth_2_id and id_to_auth\n",
    "test_id = 86201888899200\n",
    "out = id_2_auth(test_id, lookup_table)"
   ]
  },
  {
   "cell_type": "markdown",
   "metadata": {},
   "source": [
    "## **Generate paper ID's**"
   ]
  },
  {
   "cell_type": "code",
   "execution_count": null,
   "metadata": {},
   "outputs": [],
   "source": [
    "# Here we generate a lookup table for authors and associated id's\n",
    "# For every author there is a uid associated with them\n",
    "def gen_id_2_paper(paper_list):\n",
    "    author_lookup = {}\n",
    "    uid_list = []\n",
    "\n",
    "    for paper in author_network:\n",
    "        for author in paper:\n",
    "            # we make a unique ID hash that can be looked up\n",
    "            # here I fix the stupid space left in front of affiliation\n",
    "            author = [author[0], author[1], author[2][1:]]\n",
    "            string_to_hash = author[0] + ', ' + author[1] + ', ' + author[2]\n",
    "            uid = int(str(hash(string_to_hash))[1:15])\n",
    "            aff = author[2]\n",
    "            auth_name = author[0] + ', ' + author[1]\n",
    "\n",
    "            # if we have added the author to the dict, we increment the number of papers they have published\n",
    "            if uid in uid_list:\n",
    "                author_lookup[uid]['count'] += 1\n",
    "\n",
    "            else:\n",
    "                to_add = {\n",
    "                    'name': auth_name, 'count': 1, 'aff': aff\n",
    "                }\n",
    "                author_lookup[uid]= to_add\n",
    "\n",
    "            uid_list.append(uid)\n",
    "    return author_lookup\n",
    "\n",
    "lookup_table = gen_id_2_auth(author_network)"
   ]
  },
  {
   "cell_type": "markdown",
   "metadata": {},
   "source": [
    "## **Create author collaboration graph**"
   ]
  },
  {
   "cell_type": "markdown",
   "metadata": {},
   "source": [
    "### *Create edge and node lists*"
   ]
  },
  {
   "cell_type": "code",
   "execution_count": 13,
   "metadata": {},
   "outputs": [],
   "source": [
    "def gen_auth_net_to_uid_net(author_network):\n",
    "    trimmed_author_network = []\n",
    "    for paper in author_network:\n",
    "        a_list = []\n",
    "        for author in paper:\n",
    "            string_to_hash = author[0] + ', ' + author[1] + ',' + author[2]\n",
    "            uid = int(str(hash(string_to_hash))[1:15])\n",
    "            a_list.append(uid)  \n",
    "        trimmed_author_network.append(a_list)\n",
    "    return trimmed_author_network\n",
    "\n",
    "uid_network = gen_auth_net_to_uid_net(author_network)"
   ]
  },
  {
   "cell_type": "code",
   "execution_count": 14,
   "metadata": {},
   "outputs": [],
   "source": [
    "# create edge list\n",
    "edges = [[i[0],j] for i in uid_network for j in i[1:]]\n",
    "\n",
    "# create nodes\n",
    "nodes = []\n",
    "for paper in uid_network:\n",
    "    for dude in paper:\n",
    "        if dude not in nodes:\n",
    "            nodes.append(dude)"
   ]
  },
  {
   "cell_type": "markdown",
   "metadata": {},
   "source": [
    "### Make the graph"
   ]
  },
  {
   "cell_type": "code",
   "execution_count": 15,
   "metadata": {},
   "outputs": [
    {
     "name": "stdout",
     "output_type": "stream",
     "text": [
      "Name: \n",
      "Type: Graph\n",
      "Number of nodes: 26001\n",
      "Number of edges: 23395\n",
      "Average degree:   1.7995\n"
     ]
    }
   ],
   "source": [
    "import networkx as nx\n",
    "import matplotlib.pyplot as plt\n",
    "from networkx.drawing.nx_agraph import graphviz_layout, to_agraph\n",
    "## TODO: add identifiers to each node, ie institution\n",
    "def draw_graph(n, e):\n",
    "\n",
    "    # get nodes and edges\n",
    "    nodes = n\n",
    "    edges = e\n",
    "    \n",
    "    # create networkx graph\n",
    "    G=nx.Graph()\n",
    "\n",
    "    # add nodes\n",
    "    G.add_nodes_from(nodes)\n",
    "\n",
    "    # add edges\n",
    "    G.add_edges_from(edges)\n",
    "    print nx.info(G)\n",
    "\n",
    "    # draw graph\n",
    "    return G\n",
    "\n",
    "# draw example\n",
    "G = draw_graph(nodes, edges)"
   ]
  },
  {
   "cell_type": "markdown",
   "metadata": {},
   "source": [
    "## Perform computations on this graph"
   ]
  },
  {
   "cell_type": "code",
   "execution_count": 16,
   "metadata": {},
   "outputs": [],
   "source": [
    "# Returns the first degree neighbors of author\n",
    "def get_all_neighbors(author):\n",
    "    auth_id = auth_2_id(author)\n",
    "    nbrs = []\n",
    "    for uid in nx.all_neighbors(G, auth_id):\n",
    "        nbrs.append(id_2_auth(uid, lookup_table))\n",
    "    return nbrs"
   ]
  },
  {
   "cell_type": "code",
   "execution_count": 17,
   "metadata": {},
   "outputs": [],
   "source": [
    "# Returns from 1 to n degree neighbors of author\n",
    "def get_n_nearest_neigbors(author, n=1):\n",
    "    nbrs = []\n",
    "    auth_id = auth_2_id(author)\n",
    "    path_lengths = nx.single_source_dijkstra_path_length(G, auth_id)\n",
    "    nbr_ids = [node for node, length in path_lengths.iteritems() if length <= n]\n",
    "    for nbr_id in nbr_ids:\n",
    "        nbrs.append(id_2_auth(nbr_id, lookup_table))\n",
    "    return nbrs"
   ]
  },
  {
   "cell_type": "code",
   "execution_count": 77,
   "metadata": {},
   "outputs": [
    {
     "data": {
      "text/html": [
       "\n",
       "<div class=\"bk-root\">\n",
       "    <div class=\"bk-plotdiv\" id=\"b20490c1-9097-4ecb-97cc-26d456fbd8ad\"></div>\n",
       "</div>"
      ]
     },
     "metadata": {},
     "output_type": "display_data"
    },
    {
     "data": {
      "application/javascript": [
       "(function(root) {\n",
       "  function embed_document(root) {\n",
       "    \n",
       "  var docs_json = {\"d7a7e6fd-820e-47bd-a021-cc46e363f276\":{\"roots\":{\"references\":[{\"attributes\":{},\"id\":\"f3164bb5-a89e-4f8f-abc6-5bd9123ad62a\",\"type\":\"LinearScale\"},{\"attributes\":{\"fill_alpha\":{\"value\":0.1},\"fill_color\":{\"value\":\"#1f77b4\"},\"line_alpha\":{\"value\":0.1},\"line_color\":{\"value\":\"#1f77b4\"},\"size\":{\"units\":\"screen\",\"value\":7},\"x\":{\"field\":\"x\"},\"y\":{\"field\":\"y\"}},\"id\":\"b3611c74-c5cd-45d3-8d5a-2946b374a933\",\"type\":\"Circle\"},{\"attributes\":{},\"id\":\"54b05cab-39c7-4a9e-b4ed-e08879b4bd59\",\"type\":\"UnionRenderers\"},{\"attributes\":{\"dimension\":1,\"plot\":{\"id\":\"d3949d9a-9088-4e20-a1d6-658e54c01231\",\"subtype\":\"Figure\",\"type\":\"Plot\"},\"ticker\":{\"id\":\"614d6c8b-6033-47a5-a7e6-353c6f926c3f\",\"type\":\"BasicTicker\"}},\"id\":\"5175f394-86ad-4625-90c3-0ab0d5cee492\",\"type\":\"Grid\"},{\"attributes\":{\"active_drag\":\"auto\",\"active_inspect\":\"auto\",\"active_scroll\":\"auto\",\"active_tap\":\"auto\",\"tools\":[{\"id\":\"562495e9-786f-46c4-9741-26643001abcb\",\"type\":\"PanTool\"},{\"id\":\"db65130b-ebb7-47c1-94d4-4f52b1867d20\",\"type\":\"WheelZoomTool\"},{\"id\":\"9711c939-f5b8-4b8c-9e90-c2caa4528b01\",\"type\":\"BoxZoomTool\"},{\"id\":\"de5ee561-13bb-4515-8ffa-0a35e44f494e\",\"type\":\"SaveTool\"},{\"id\":\"7a6c9626-0b92-4d2c-af6f-949a00d76014\",\"type\":\"ResetTool\"},{\"id\":\"0d230ab8-d0d6-4840-9180-a8e7158e6a40\",\"type\":\"HelpTool\"}]},\"id\":\"aa2ab239-4b7a-487e-aef3-bc217f580171\",\"type\":\"Toolbar\"},{\"attributes\":{\"bottom_units\":\"screen\",\"fill_alpha\":{\"value\":0.5},\"fill_color\":{\"value\":\"lightgrey\"},\"left_units\":\"screen\",\"level\":\"overlay\",\"line_alpha\":{\"value\":1.0},\"line_color\":{\"value\":\"black\"},\"line_dash\":[4,4],\"line_width\":{\"value\":2},\"plot\":null,\"render_mode\":\"css\",\"right_units\":\"screen\",\"top_units\":\"screen\"},\"id\":\"29ba8960-bd4d-49af-ad83-dc2376d5ccfc\",\"type\":\"BoxAnnotation\"},{\"attributes\":{\"callback\":null},\"id\":\"912fb03a-57f9-4936-b76c-875b410f3af8\",\"type\":\"DataRange1d\"},{\"attributes\":{},\"id\":\"36dd7c34-4849-4cdc-9408-bf26b560edb9\",\"type\":\"UnionRenderers\"},{\"attributes\":{\"fill_alpha\":{\"value\":0.5},\"fill_color\":{\"value\":\"firebrick\"},\"line_alpha\":{\"value\":0.5},\"line_color\":{\"value\":\"firebrick\"},\"size\":{\"units\":\"screen\",\"value\":7},\"x\":{\"field\":\"x\"},\"y\":{\"field\":\"y\"}},\"id\":\"676c31a9-46cd-499e-a5f8-656ea610d1a0\",\"type\":\"Circle\"},{\"attributes\":{},\"id\":\"7a6c9626-0b92-4d2c-af6f-949a00d76014\",\"type\":\"ResetTool\"},{\"attributes\":{},\"id\":\"03ec0e58-ce41-4a03-bb80-d80ac7356218\",\"type\":\"Selection\"},{\"attributes\":{},\"id\":\"ea85434f-0774-4ab3-b711-415b8a580757\",\"type\":\"BasicTickFormatter\"},{\"attributes\":{\"source\":{\"id\":\"bc0cb66a-8c15-42cc-8aa7-b6acbc6bfed6\",\"type\":\"ColumnDataSource\"}},\"id\":\"d6e9a8c8-d309-4e7d-a041-a9c9268c24b8\",\"type\":\"CDSView\"},{\"attributes\":{},\"id\":\"df9ca537-ec74-47ab-b8e8-c4cff26ef49c\",\"type\":\"UnionRenderers\"},{\"attributes\":{\"source\":{\"id\":\"2518d7fe-79f4-4cdd-a915-64f9814a6455\",\"type\":\"ColumnDataSource\"}},\"id\":\"70f03fea-d737-4fb4-a4dc-85aef7762eea\",\"type\":\"CDSView\"},{\"attributes\":{\"fill_alpha\":{\"value\":0.5},\"fill_color\":{\"value\":\"green\"},\"line_alpha\":{\"value\":0.5},\"line_color\":{\"value\":\"green\"},\"size\":{\"units\":\"screen\",\"value\":7},\"x\":{\"field\":\"x\"},\"y\":{\"field\":\"y\"}},\"id\":\"e6fc1ff1-f698-41c7-9b5c-3b0c56f36dc8\",\"type\":\"Circle\"},{\"attributes\":{\"callback\":null},\"id\":\"8c67d5bd-18a1-49e8-9c64-3441c8c06575\",\"type\":\"DataRange1d\"},{\"attributes\":{},\"id\":\"25ef9a3b-1f03-4fce-bea0-dfb7cae60938\",\"type\":\"BasicTickFormatter\"},{\"attributes\":{\"fill_alpha\":{\"value\":0.1},\"fill_color\":{\"value\":\"#1f77b4\"},\"line_alpha\":{\"value\":0.1},\"line_color\":{\"value\":\"#1f77b4\"},\"size\":{\"units\":\"screen\",\"value\":7},\"x\":{\"field\":\"x\"},\"y\":{\"field\":\"y\"}},\"id\":\"3ac5a880-b028-43ff-9479-cabb363d9df4\",\"type\":\"Circle\"},{\"attributes\":{\"source\":{\"id\":\"6f94d7e5-4c0e-4136-b851-7a8029ee74ca\",\"type\":\"ColumnDataSource\"}},\"id\":\"b35f4ae7-5d7f-4567-be98-ff8b0cad29ba\",\"type\":\"CDSView\"},{\"attributes\":{},\"id\":\"bda600b1-e2bb-4d53-854c-d53ab09ad1de\",\"type\":\"Selection\"},{\"attributes\":{\"overlay\":{\"id\":\"29ba8960-bd4d-49af-ad83-dc2376d5ccfc\",\"type\":\"BoxAnnotation\"}},\"id\":\"9711c939-f5b8-4b8c-9e90-c2caa4528b01\",\"type\":\"BoxZoomTool\"},{\"attributes\":{},\"id\":\"faa8c1b2-eae5-4e58-8871-b70ae1307dca\",\"type\":\"Selection\"},{\"attributes\":{\"label\":{\"value\":\"Westra, Harm-Jan, University of Groningen, University Medical Center Groningen\"},\"renderers\":[{\"id\":\"54512709-5467-4ce9-b407-efd985bf902a\",\"type\":\"GlyphRenderer\"}]},\"id\":\"7967db31-78ee-4024-acb7-0ad674304413\",\"type\":\"LegendItem\"},{\"attributes\":{\"fill_alpha\":{\"value\":0.1},\"fill_color\":{\"value\":\"#1f77b4\"},\"line_alpha\":{\"value\":0.1},\"line_color\":{\"value\":\"#1f77b4\"},\"size\":{\"units\":\"screen\",\"value\":7},\"x\":{\"field\":\"x\"},\"y\":{\"field\":\"y\"}},\"id\":\"5132e46a-065b-4712-98bd-afffa77e551c\",\"type\":\"Circle\"},{\"attributes\":{\"axis_label\":\"Number of People\",\"formatter\":{\"id\":\"25ef9a3b-1f03-4fce-bea0-dfb7cae60938\",\"type\":\"BasicTickFormatter\"},\"plot\":{\"id\":\"d3949d9a-9088-4e20-a1d6-658e54c01231\",\"subtype\":\"Figure\",\"type\":\"Plot\"},\"ticker\":{\"id\":\"614d6c8b-6033-47a5-a7e6-353c6f926c3f\",\"type\":\"BasicTicker\"}},\"id\":\"d6d79589-b823-4531-ac78-e89a1b443daa\",\"type\":\"LinearAxis\"},{\"attributes\":{\"data_source\":{\"id\":\"bc0cb66a-8c15-42cc-8aa7-b6acbc6bfed6\",\"type\":\"ColumnDataSource\"},\"glyph\":{\"id\":\"d88acf1b-f38c-4494-94d7-540963ded56e\",\"type\":\"Circle\"},\"hover_glyph\":null,\"muted_glyph\":null,\"nonselection_glyph\":{\"id\":\"b3611c74-c5cd-45d3-8d5a-2946b374a933\",\"type\":\"Circle\"},\"selection_glyph\":null,\"view\":{\"id\":\"d6e9a8c8-d309-4e7d-a041-a9c9268c24b8\",\"type\":\"CDSView\"}},\"id\":\"54512709-5467-4ce9-b407-efd985bf902a\",\"type\":\"GlyphRenderer\"},{\"attributes\":{\"label\":{\"value\":\"Murray, Richard, California Institute of Technology\"},\"renderers\":[{\"id\":\"96c7851a-0511-494e-929b-378f4dfdf518\",\"type\":\"GlyphRenderer\"}]},\"id\":\"275097d2-93fd-42a4-8b49-44f51cf02468\",\"type\":\"LegendItem\"},{\"attributes\":{},\"id\":\"de5ee561-13bb-4515-8ffa-0a35e44f494e\",\"type\":\"SaveTool\"},{\"attributes\":{\"below\":[{\"id\":\"cc0c0548-399e-443a-adab-03dd39c04bcd\",\"type\":\"LinearAxis\"}],\"left\":[{\"id\":\"d6d79589-b823-4531-ac78-e89a1b443daa\",\"type\":\"LinearAxis\"}],\"plot_height\":500,\"plot_width\":1000,\"renderers\":[{\"id\":\"cc0c0548-399e-443a-adab-03dd39c04bcd\",\"type\":\"LinearAxis\"},{\"id\":\"acc325cc-7052-4128-95f1-5427325e3869\",\"type\":\"Grid\"},{\"id\":\"d6d79589-b823-4531-ac78-e89a1b443daa\",\"type\":\"LinearAxis\"},{\"id\":\"5175f394-86ad-4625-90c3-0ab0d5cee492\",\"type\":\"Grid\"},{\"id\":\"29ba8960-bd4d-49af-ad83-dc2376d5ccfc\",\"type\":\"BoxAnnotation\"},{\"id\":\"f9942b59-d39e-47ce-a034-94ebebd9e4ca\",\"type\":\"Legend\"},{\"id\":\"0ca49ccb-9ecd-4b4c-9ec7-f64a6136be2a\",\"type\":\"GlyphRenderer\"},{\"id\":\"54512709-5467-4ce9-b407-efd985bf902a\",\"type\":\"GlyphRenderer\"},{\"id\":\"96c7851a-0511-494e-929b-378f4dfdf518\",\"type\":\"GlyphRenderer\"}],\"title\":{\"id\":\"4478bef8-f83c-4b72-a6f9-efcafa0fd813\",\"type\":\"Title\"},\"toolbar\":{\"id\":\"aa2ab239-4b7a-487e-aef3-bc217f580171\",\"type\":\"Toolbar\"},\"x_range\":{\"id\":\"8c67d5bd-18a1-49e8-9c64-3441c8c06575\",\"type\":\"DataRange1d\"},\"x_scale\":{\"id\":\"f3164bb5-a89e-4f8f-abc6-5bd9123ad62a\",\"type\":\"LinearScale\"},\"y_range\":{\"id\":\"912fb03a-57f9-4936-b76c-875b410f3af8\",\"type\":\"DataRange1d\"},\"y_scale\":{\"id\":\"85cf377b-f23f-4b84-9a54-db367768549b\",\"type\":\"LinearScale\"}},\"id\":\"d3949d9a-9088-4e20-a1d6-658e54c01231\",\"subtype\":\"Figure\",\"type\":\"Plot\"},{\"attributes\":{},\"id\":\"562495e9-786f-46c4-9741-26643001abcb\",\"type\":\"PanTool\"},{\"attributes\":{\"callback\":null,\"data\":{\"x\":[1,2,3,4,5,6,7,8,9,10,11,12,13,14,15,16,17,18,19,20,21,22,23,24,25,26,27,28,29],\"y\":[2,9,17,55,91,100,108,116,120,120,120,120,120,120,120,120,120,120,120,120,120,120,120,120,120,120,120,120,120]},\"selected\":{\"id\":\"bda600b1-e2bb-4d53-854c-d53ab09ad1de\",\"type\":\"Selection\"},\"selection_policy\":{\"id\":\"36dd7c34-4849-4cdc-9408-bf26b560edb9\",\"type\":\"UnionRenderers\"}},\"id\":\"6f94d7e5-4c0e-4136-b851-7a8029ee74ca\",\"type\":\"ColumnDataSource\"},{\"attributes\":{},\"id\":\"85cf377b-f23f-4b84-9a54-db367768549b\",\"type\":\"LinearScale\"},{\"attributes\":{},\"id\":\"0d230ab8-d0d6-4840-9180-a8e7158e6a40\",\"type\":\"HelpTool\"},{\"attributes\":{},\"id\":\"db65130b-ebb7-47c1-94d4-4f52b1867d20\",\"type\":\"WheelZoomTool\"},{\"attributes\":{\"axis_label\":\"Degree of Separation\",\"formatter\":{\"id\":\"ea85434f-0774-4ab3-b711-415b8a580757\",\"type\":\"BasicTickFormatter\"},\"plot\":{\"id\":\"d3949d9a-9088-4e20-a1d6-658e54c01231\",\"subtype\":\"Figure\",\"type\":\"Plot\"},\"ticker\":{\"id\":\"8d4407ae-30fc-448a-a834-a5711ba9f48c\",\"type\":\"BasicTicker\"}},\"id\":\"cc0c0548-399e-443a-adab-03dd39c04bcd\",\"type\":\"LinearAxis\"},{\"attributes\":{\"label\":{\"value\":\"Pachter, Lior, UC Berkeley\"},\"renderers\":[{\"id\":\"0ca49ccb-9ecd-4b4c-9ec7-f64a6136be2a\",\"type\":\"GlyphRenderer\"}]},\"id\":\"322daf0e-6494-4c5b-a76d-034a14e276db\",\"type\":\"LegendItem\"},{\"attributes\":{},\"id\":\"8d4407ae-30fc-448a-a834-a5711ba9f48c\",\"type\":\"BasicTicker\"},{\"attributes\":{\"plot\":null,\"text\":\"Number of People v. Degrees of Separation\"},\"id\":\"4478bef8-f83c-4b72-a6f9-efcafa0fd813\",\"type\":\"Title\"},{\"attributes\":{\"plot\":{\"id\":\"d3949d9a-9088-4e20-a1d6-658e54c01231\",\"subtype\":\"Figure\",\"type\":\"Plot\"},\"ticker\":{\"id\":\"8d4407ae-30fc-448a-a834-a5711ba9f48c\",\"type\":\"BasicTicker\"}},\"id\":\"acc325cc-7052-4128-95f1-5427325e3869\",\"type\":\"Grid\"},{\"attributes\":{\"callback\":null,\"data\":{\"x\":[1,2,3,4,5,6,7,8,9,10,11,12,13,14,15,16,17,18,19,20,21,22,23,24,25,26,27,28,29],\"y\":[58,59,68,70,87,119,126,199,253,320,479,614,972,1370,1623,2132,2312,2513,2670,2815,2872,2968,3005,3053,3077,3091,3102,3107,3107]},\"selected\":{\"id\":\"faa8c1b2-eae5-4e58-8871-b70ae1307dca\",\"type\":\"Selection\"},\"selection_policy\":{\"id\":\"54b05cab-39c7-4a9e-b4ed-e08879b4bd59\",\"type\":\"UnionRenderers\"}},\"id\":\"bc0cb66a-8c15-42cc-8aa7-b6acbc6bfed6\",\"type\":\"ColumnDataSource\"},{\"attributes\":{\"fill_alpha\":{\"value\":0.5},\"fill_color\":{\"value\":\"blue\"},\"line_alpha\":{\"value\":0.5},\"line_color\":{\"value\":\"blue\"},\"size\":{\"units\":\"screen\",\"value\":7},\"x\":{\"field\":\"x\"},\"y\":{\"field\":\"y\"}},\"id\":\"d88acf1b-f38c-4494-94d7-540963ded56e\",\"type\":\"Circle\"},{\"attributes\":{},\"id\":\"614d6c8b-6033-47a5-a7e6-353c6f926c3f\",\"type\":\"BasicTicker\"},{\"attributes\":{\"items\":[{\"id\":\"322daf0e-6494-4c5b-a76d-034a14e276db\",\"type\":\"LegendItem\"},{\"id\":\"7967db31-78ee-4024-acb7-0ad674304413\",\"type\":\"LegendItem\"},{\"id\":\"275097d2-93fd-42a4-8b49-44f51cf02468\",\"type\":\"LegendItem\"}],\"location\":\"top_left\",\"plot\":{\"id\":\"d3949d9a-9088-4e20-a1d6-658e54c01231\",\"subtype\":\"Figure\",\"type\":\"Plot\"}},\"id\":\"f9942b59-d39e-47ce-a034-94ebebd9e4ca\",\"type\":\"Legend\"},{\"attributes\":{\"data_source\":{\"id\":\"2518d7fe-79f4-4cdd-a915-64f9814a6455\",\"type\":\"ColumnDataSource\"},\"glyph\":{\"id\":\"676c31a9-46cd-499e-a5f8-656ea610d1a0\",\"type\":\"Circle\"},\"hover_glyph\":null,\"muted_glyph\":null,\"nonselection_glyph\":{\"id\":\"5132e46a-065b-4712-98bd-afffa77e551c\",\"type\":\"Circle\"},\"selection_glyph\":null,\"view\":{\"id\":\"70f03fea-d737-4fb4-a4dc-85aef7762eea\",\"type\":\"CDSView\"}},\"id\":\"0ca49ccb-9ecd-4b4c-9ec7-f64a6136be2a\",\"type\":\"GlyphRenderer\"},{\"attributes\":{\"data_source\":{\"id\":\"6f94d7e5-4c0e-4136-b851-7a8029ee74ca\",\"type\":\"ColumnDataSource\"},\"glyph\":{\"id\":\"e6fc1ff1-f698-41c7-9b5c-3b0c56f36dc8\",\"type\":\"Circle\"},\"hover_glyph\":null,\"muted_glyph\":null,\"nonselection_glyph\":{\"id\":\"3ac5a880-b028-43ff-9479-cabb363d9df4\",\"type\":\"Circle\"},\"selection_glyph\":null,\"view\":{\"id\":\"b35f4ae7-5d7f-4567-be98-ff8b0cad29ba\",\"type\":\"CDSView\"}},\"id\":\"96c7851a-0511-494e-929b-378f4dfdf518\",\"type\":\"GlyphRenderer\"},{\"attributes\":{\"callback\":null,\"data\":{\"x\":[1,2,3,4,5,6,7,8,9,10,11,12,13,14,15,16,17,18,19,20,21,22,23,24,25,26,27,28,29],\"y\":[3,8,12,18,19,53,85,130,187,303,381,724,905,1340,1572,1793,1955,2176,2403,2612,2788,2932,2995,3061,3088,3102,3107,3107,3107]},\"selected\":{\"id\":\"03ec0e58-ce41-4a03-bb80-d80ac7356218\",\"type\":\"Selection\"},\"selection_policy\":{\"id\":\"df9ca537-ec74-47ab-b8e8-c4cff26ef49c\",\"type\":\"UnionRenderers\"}},\"id\":\"2518d7fe-79f4-4cdd-a915-64f9814a6455\",\"type\":\"ColumnDataSource\"}],\"root_ids\":[\"d3949d9a-9088-4e20-a1d6-658e54c01231\"]},\"title\":\"Bokeh Application\",\"version\":\"0.12.16\"}};\n",
       "  var render_items = [{\"docid\":\"d7a7e6fd-820e-47bd-a021-cc46e363f276\",\"elementid\":\"b20490c1-9097-4ecb-97cc-26d456fbd8ad\",\"modelid\":\"d3949d9a-9088-4e20-a1d6-658e54c01231\"}];\n",
       "  root.Bokeh.embed.embed_items_notebook(docs_json, render_items);\n",
       "\n",
       "  }\n",
       "  if (root.Bokeh !== undefined) {\n",
       "    embed_document(root);\n",
       "  } else {\n",
       "    var attempts = 0;\n",
       "    var timer = setInterval(function(root) {\n",
       "      if (root.Bokeh !== undefined) {\n",
       "        embed_document(root);\n",
       "        clearInterval(timer);\n",
       "      }\n",
       "      attempts++;\n",
       "      if (attempts > 100) {\n",
       "        console.log(\"Bokeh: ERROR: Unable to run BokehJS code because BokehJS library is missing\")\n",
       "        clearInterval(timer);\n",
       "      }\n",
       "    }, 10, root)\n",
       "  }\n",
       "})(window);"
      ],
      "application/vnd.bokehjs_exec.v0+json": ""
     },
     "metadata": {
      "application/vnd.bokehjs_exec.v0+json": {
       "id": "d3949d9a-9088-4e20-a1d6-658e54c01231"
      }
     },
     "output_type": "display_data"
    }
   ],
   "source": [
    "#author = id_2_auth(test_id, lookup_table)\n",
    "author1 = ['Pachter, Lior', 'UC Berkeley']\n",
    "author2 = ['Alabdulkareem, Ibrahim B.','King Abdullah International Medical Research Center, Ministry of National Guard Health Affairs']\n",
    "test_id = 70686335484624\n",
    "author2 = id_2_auth(test_id, lookup_table)\n",
    "author3 = ['Murray, Richard', 'California Institute of Technology']\n",
    "\n",
    "degree = range(1,30)\n",
    "a1 = []\n",
    "a2 = []\n",
    "a3 = []\n",
    "for deg in degree:\n",
    "    a1.append(len(get_n_nearest_neigbors(author1, n=deg)))\n",
    "    a2.append(len(get_n_nearest_neigbors(author2, n=deg)))\n",
    "    a3.append(len(get_n_nearest_neigbors(author3, n=deg)))\n",
    "\n",
    "\n",
    "p1 = figure(width=1000, height=500, title=\"Number of People v. Degrees of Separation\")\n",
    "p1.xaxis.axis_label = 'Degree of Separation'\n",
    "p1.yaxis.axis_label = 'Number of People'\n",
    "p1.circle(degree, a1, size=7, color=\"firebrick\", alpha=0.5, legend=author1[0] + ', ' + author1[1])\n",
    "p1.circle(degree, a2, size=7, color=\"blue\", alpha=0.5, legend=author2[0] + ', ' + author2[1])\n",
    "p1.circle(degree, a3, size=7, color=\"green\", alpha=0.5, legend=author3[0] + ', ' + author3[1])\n",
    "\n",
    "p1.legend.location = \"top_left\"\n",
    "show(p1)"
   ]
  },
  {
   "cell_type": "code",
   "execution_count": 3,
   "metadata": {},
   "outputs": [
    {
     "ename": "NameError",
     "evalue": "name 'a1' is not defined",
     "output_type": "error",
     "traceback": [
      "\u001b[0;31m---------------------------------------------------------------------------\u001b[0m",
      "\u001b[0;31mNameError\u001b[0m                                 Traceback (most recent call last)",
      "\u001b[0;32m<ipython-input-3-4048b72318de>\u001b[0m in \u001b[0;36m<module>\u001b[0;34m()\u001b[0m\n\u001b[0;32m----> 1\u001b[0;31m \u001b[0ma1\u001b[0m\u001b[0;34m[\u001b[0m\u001b[0;34m-\u001b[0m\u001b[0;36m1\u001b[0m\u001b[0;34m]\u001b[0m\u001b[0;34m\u001b[0m\u001b[0m\n\u001b[0m",
      "\u001b[0;31mNameError\u001b[0m: name 'a1' is not defined"
     ]
    }
   ],
   "source": [
    "a1[-1]"
   ]
  },
  {
   "cell_type": "markdown",
   "metadata": {},
   "source": [
    "## Test stuff"
   ]
  },
  {
   "cell_type": "code",
   "execution_count": 78,
   "metadata": {},
   "outputs": [],
   "source": [
    "author = ['Pachter, Lior', 'UC Berkeley']\n",
    "author = ['Murray, Richard', 'California Institute of Technology']\n",
    "test_id = auth_2_id(author)\n",
    "#test_id = 5509899179575\n",
    "test_id = 89925582758261"
   ]
  },
  {
   "cell_type": "code",
   "execution_count": 50,
   "metadata": {},
   "outputs": [
    {
     "data": {
      "text/plain": [
       "[[u'Alabdulkareem, Ibrahim B.',\n",
       "  u'King Abdullah International Medical Research Center, Ministry of National Guard Health Affairs']]"
      ]
     },
     "execution_count": 50,
     "metadata": {},
     "output_type": "execute_result"
    }
   ],
   "source": [
    "author = ['Doyle, John', 'California Institute of Technology']\n",
    "\n",
    "affiliations['Harvard University']\n",
    "author = id_2_auth(23206401549607, lookup_table)\n",
    "nbrs = get_all_neighbors(id_2_auth(test_id, lookup_table))\n",
    "nbrs"
   ]
  },
  {
   "cell_type": "code",
   "execution_count": 451,
   "metadata": {},
   "outputs": [
    {
     "data": {
      "text/plain": [
       "{30562699974351: 1,\n",
       " 57512786246293: 1,\n",
       " 58440851686067: 1,\n",
       " 59149540451919: 1,\n",
       " 89925582758261: 0}"
      ]
     },
     "execution_count": 451,
     "metadata": {},
     "output_type": "execute_result"
    }
   ],
   "source": [
    "nx.single_source_shortest_path_length(G, test_id, cutoff=1)"
   ]
  },
  {
   "cell_type": "code",
   "execution_count": 452,
   "metadata": {},
   "outputs": [
    {
     "name": "stdout",
     "output_type": "stream",
     "text": [
      "[u'Basanta, David', u'H. Lee Moffitt Cancer Center and Research Institute']\n",
      "[u'Hjelmeland, Anita', u'University of Alabama at Birmingham']\n",
      "[u'Chinnaiyan, Prakash', u'H. Lee Moffitt Cancer Center and Research Institute']\n",
      "[u'Anderson, Alexander R A', u'H. Lee Moffitt Cancer Center and Research Institute']\n"
     ]
    }
   ],
   "source": [
    "neighbors = nx.all_neighbors(G, test_id)\n",
    "for uid in nx.all_neighbors(G, test_id):\n",
    "    print id_2_auth(uid, lookup_table)"
   ]
  },
  {
   "cell_type": "markdown",
   "metadata": {},
   "source": [
    "## Print interesting stats"
   ]
  },
  {
   "cell_type": "code",
   "execution_count": 58,
   "metadata": {},
   "outputs": [
    {
     "name": "stdout",
     "output_type": "stream",
     "text": [
      "Total number of authors :  26002\n",
      "Total number of authors who pub once :  23110\n",
      "Total number of authors who pub many :  2892\n",
      "Total number of publishing institutions :  7327\n"
     ]
    }
   ],
   "source": [
    "number_of_total_authors = len(global_author_list)\n",
    "number_of_authors_pub_many = duplicates - number_of_total_authors\n",
    "number_of_authors_pub_once = number_of_total_authors - number_of_authors_pub_many\n",
    "\n",
    "number_of_publishing_institutions = len(global_aff_list)\n",
    "\n",
    "print \"Total number of authors : \", number_of_total_authors\n",
    "print \"Total number of authors who pub once : \", number_of_authors_pub_once\n",
    "print \"Total number of authors who pub many : \", number_of_authors_pub_many\n",
    "print \"Total number of publishing institutions : \", number_of_publishing_institutions"
   ]
  },
  {
   "cell_type": "markdown",
   "metadata": {},
   "source": [
    "### Date Information"
   ]
  },
  {
   "cell_type": "code",
   "execution_count": 258,
   "metadata": {},
   "outputs": [],
   "source": [
    "# Working with dates\n",
    "dates, number_of_papers_posted = zip(*sorted(global_date_dict.items()))\n",
    "dates = list(dates)\n",
    "number_of_papers_posted = list(number_of_papers_posted)"
   ]
  },
  {
   "cell_type": "code",
   "execution_count": 259,
   "metadata": {},
   "outputs": [],
   "source": [
    "# Plotting number of papers posted over time\n",
    "# TODO: for plotting dates need to remove the once with errors ie DOI not found\n",
    "dates_dt = []\n",
    "for day in dates:\n",
    "    dates_dt.append(parser.parse(day))\n",
    "    \n",
    "dates_matplot = mdates.date2num(dates_dt)\n",
    "\n",
    "date_series = pd.Series(dates_dt, number_of_papers_posted)\n",
    "date_series.hist(bins=12)\n",
    "plt.show()"
   ]
  },
  {
   "cell_type": "markdown",
   "metadata": {},
   "source": [
    "## **Random Scripts that I don't really need anymore**"
   ]
  },
  {
   "cell_type": "code",
   "execution_count": 17,
   "metadata": {},
   "outputs": [],
   "source": [
    "## This scripts takes the summary document and produces a dictionary with journal, num of paper pairs. it uses the old summary.txt from /complete_data/data/pdfs/\n",
    "summary_dictionary = {}\n",
    "for n in summary:\n",
    "    new = n.split(':')\n",
    "    journal = new[0:-1][0]\n",
    "    ''.join(journal)\n",
    "    number_of_journal_papers = new[-1].strip('\\n')\n",
    "    summary_dictionary[journal] = int(number_of_journal_papers)\n",
    "\n",
    "with open(path_to_save + '/journal_summary.txt', 'w') as f:\n",
    "    json.dump(summary_dictionary, f)"
   ]
  }
 ],
 "metadata": {
  "kernelspec": {
   "display_name": "Python 2",
   "language": "python",
   "name": "python2"
  },
  "language_info": {
   "codemirror_mode": {
    "name": "ipython",
    "version": 2
   },
   "file_extension": ".py",
   "mimetype": "text/x-python",
   "name": "python",
   "nbconvert_exporter": "python",
   "pygments_lexer": "ipython2",
   "version": "2.7.13"
  }
 },
 "nbformat": 4,
 "nbformat_minor": 2
}
